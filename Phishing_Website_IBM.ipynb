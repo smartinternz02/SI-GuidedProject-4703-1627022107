{
 "cells": [
  {
   "cell_type": "code",
   "execution_count": 2,
   "metadata": {},
   "outputs": [],
   "source": [
    "import numpy as np\n",
    "import pandas as pd"
   ]
  },
  {
   "cell_type": "code",
   "execution_count": 3,
   "metadata": {},
   "outputs": [
    {
     "data": {
      "text/html": [
       "<div>\n",
       "<style scoped>\n",
       "    .dataframe tbody tr th:only-of-type {\n",
       "        vertical-align: middle;\n",
       "    }\n",
       "\n",
       "    .dataframe tbody tr th {\n",
       "        vertical-align: top;\n",
       "    }\n",
       "\n",
       "    .dataframe thead th {\n",
       "        text-align: right;\n",
       "    }\n",
       "</style>\n",
       "<table border=\"1\" class=\"dataframe\">\n",
       "  <thead>\n",
       "    <tr style=\"text-align: right;\">\n",
       "      <th></th>\n",
       "      <th>index</th>\n",
       "      <th>having_IPhaving_IP_Address</th>\n",
       "      <th>URLURL_Length</th>\n",
       "      <th>Shortining_Service</th>\n",
       "      <th>having_At_Symbol</th>\n",
       "      <th>double_slash_redirecting</th>\n",
       "      <th>Prefix_Suffix</th>\n",
       "      <th>having_Sub_Domain</th>\n",
       "      <th>SSLfinal_State</th>\n",
       "      <th>Domain_registeration_length</th>\n",
       "      <th>...</th>\n",
       "      <th>popUpWidnow</th>\n",
       "      <th>Iframe</th>\n",
       "      <th>age_of_domain</th>\n",
       "      <th>DNSRecord</th>\n",
       "      <th>web_traffic</th>\n",
       "      <th>Page_Rank</th>\n",
       "      <th>Google_Index</th>\n",
       "      <th>Links_pointing_to_page</th>\n",
       "      <th>Statistical_report</th>\n",
       "      <th>Result</th>\n",
       "    </tr>\n",
       "  </thead>\n",
       "  <tbody>\n",
       "    <tr>\n",
       "      <th>0</th>\n",
       "      <td>1</td>\n",
       "      <td>-1</td>\n",
       "      <td>1</td>\n",
       "      <td>1</td>\n",
       "      <td>1</td>\n",
       "      <td>-1</td>\n",
       "      <td>-1</td>\n",
       "      <td>-1</td>\n",
       "      <td>-1</td>\n",
       "      <td>-1</td>\n",
       "      <td>...</td>\n",
       "      <td>1</td>\n",
       "      <td>1</td>\n",
       "      <td>-1</td>\n",
       "      <td>-1</td>\n",
       "      <td>-1</td>\n",
       "      <td>-1</td>\n",
       "      <td>1</td>\n",
       "      <td>1</td>\n",
       "      <td>-1</td>\n",
       "      <td>-1</td>\n",
       "    </tr>\n",
       "    <tr>\n",
       "      <th>1</th>\n",
       "      <td>2</td>\n",
       "      <td>1</td>\n",
       "      <td>1</td>\n",
       "      <td>1</td>\n",
       "      <td>1</td>\n",
       "      <td>1</td>\n",
       "      <td>-1</td>\n",
       "      <td>0</td>\n",
       "      <td>1</td>\n",
       "      <td>-1</td>\n",
       "      <td>...</td>\n",
       "      <td>1</td>\n",
       "      <td>1</td>\n",
       "      <td>-1</td>\n",
       "      <td>-1</td>\n",
       "      <td>0</td>\n",
       "      <td>-1</td>\n",
       "      <td>1</td>\n",
       "      <td>1</td>\n",
       "      <td>1</td>\n",
       "      <td>-1</td>\n",
       "    </tr>\n",
       "    <tr>\n",
       "      <th>2</th>\n",
       "      <td>3</td>\n",
       "      <td>1</td>\n",
       "      <td>0</td>\n",
       "      <td>1</td>\n",
       "      <td>1</td>\n",
       "      <td>1</td>\n",
       "      <td>-1</td>\n",
       "      <td>-1</td>\n",
       "      <td>-1</td>\n",
       "      <td>-1</td>\n",
       "      <td>...</td>\n",
       "      <td>1</td>\n",
       "      <td>1</td>\n",
       "      <td>1</td>\n",
       "      <td>-1</td>\n",
       "      <td>1</td>\n",
       "      <td>-1</td>\n",
       "      <td>1</td>\n",
       "      <td>0</td>\n",
       "      <td>-1</td>\n",
       "      <td>-1</td>\n",
       "    </tr>\n",
       "    <tr>\n",
       "      <th>3</th>\n",
       "      <td>4</td>\n",
       "      <td>1</td>\n",
       "      <td>0</td>\n",
       "      <td>1</td>\n",
       "      <td>1</td>\n",
       "      <td>1</td>\n",
       "      <td>-1</td>\n",
       "      <td>-1</td>\n",
       "      <td>-1</td>\n",
       "      <td>1</td>\n",
       "      <td>...</td>\n",
       "      <td>1</td>\n",
       "      <td>1</td>\n",
       "      <td>-1</td>\n",
       "      <td>-1</td>\n",
       "      <td>1</td>\n",
       "      <td>-1</td>\n",
       "      <td>1</td>\n",
       "      <td>-1</td>\n",
       "      <td>1</td>\n",
       "      <td>-1</td>\n",
       "    </tr>\n",
       "    <tr>\n",
       "      <th>4</th>\n",
       "      <td>5</td>\n",
       "      <td>1</td>\n",
       "      <td>0</td>\n",
       "      <td>-1</td>\n",
       "      <td>1</td>\n",
       "      <td>1</td>\n",
       "      <td>-1</td>\n",
       "      <td>1</td>\n",
       "      <td>1</td>\n",
       "      <td>-1</td>\n",
       "      <td>...</td>\n",
       "      <td>-1</td>\n",
       "      <td>1</td>\n",
       "      <td>-1</td>\n",
       "      <td>-1</td>\n",
       "      <td>0</td>\n",
       "      <td>-1</td>\n",
       "      <td>1</td>\n",
       "      <td>1</td>\n",
       "      <td>1</td>\n",
       "      <td>1</td>\n",
       "    </tr>\n",
       "  </tbody>\n",
       "</table>\n",
       "<p>5 rows × 32 columns</p>\n",
       "</div>"
      ],
      "text/plain": [
       "   index  having_IPhaving_IP_Address  URLURL_Length  Shortining_Service  \\\n",
       "0      1                          -1              1                   1   \n",
       "1      2                           1              1                   1   \n",
       "2      3                           1              0                   1   \n",
       "3      4                           1              0                   1   \n",
       "4      5                           1              0                  -1   \n",
       "\n",
       "   having_At_Symbol  double_slash_redirecting  Prefix_Suffix  \\\n",
       "0                 1                        -1             -1   \n",
       "1                 1                         1             -1   \n",
       "2                 1                         1             -1   \n",
       "3                 1                         1             -1   \n",
       "4                 1                         1             -1   \n",
       "\n",
       "   having_Sub_Domain  SSLfinal_State  Domain_registeration_length  ...  \\\n",
       "0                 -1              -1                           -1  ...   \n",
       "1                  0               1                           -1  ...   \n",
       "2                 -1              -1                           -1  ...   \n",
       "3                 -1              -1                            1  ...   \n",
       "4                  1               1                           -1  ...   \n",
       "\n",
       "   popUpWidnow  Iframe  age_of_domain  DNSRecord  web_traffic  Page_Rank  \\\n",
       "0            1       1             -1         -1           -1         -1   \n",
       "1            1       1             -1         -1            0         -1   \n",
       "2            1       1              1         -1            1         -1   \n",
       "3            1       1             -1         -1            1         -1   \n",
       "4           -1       1             -1         -1            0         -1   \n",
       "\n",
       "   Google_Index  Links_pointing_to_page  Statistical_report  Result  \n",
       "0             1                       1                  -1      -1  \n",
       "1             1                       1                   1      -1  \n",
       "2             1                       0                  -1      -1  \n",
       "3             1                      -1                   1      -1  \n",
       "4             1                       1                   1       1  \n",
       "\n",
       "[5 rows x 32 columns]"
      ]
     },
     "execution_count": 3,
     "metadata": {},
     "output_type": "execute_result"
    }
   ],
   "source": [
    "\n",
    "import os, types\n",
    "import pandas as pd\n",
    "from botocore.client import Config\n",
    "import ibm_boto3\n",
    "\n",
    "def __iter__(self): return 0\n",
    "\n",
    "# @hidden_cell\n",
    "# The following code accesses a file in your IBM Cloud Object Storage. It includes your credentials.\n",
    "# You might want to remove those credentials before you share the notebook.\n",
    "\n",
    "if os.environ.get('RUNTIME_ENV_LOCATION_TYPE') == 'external':\n",
    "    endpoint_9a7d82ca117449debfad5ebfce56256f = 'https://s3.us.cloud-object-storage.appdomain.cloud'\n",
    "else:\n",
    "    endpoint_9a7d82ca117449debfad5ebfce56256f = 'https://s3.private.us.cloud-object-storage.appdomain.cloud'\n",
    "\n",
    "client_9a7d82ca117449debfad5ebfce56256f = ibm_boto3.client(service_name='s3',\n",
    "    ibm_api_key_id='FrozTVf58gtm6NGxPA0jWz7eFG56CTbGdgUUR9NSFx16',\n",
    "    ibm_auth_endpoint=\"https://iam.cloud.ibm.com/oidc/token\",\n",
    "    config=Config(signature_version='oauth'),\n",
    "    endpoint_url=endpoint_9a7d82ca117449debfad5ebfce56256f)\n",
    "\n",
    "body = client_9a7d82ca117449debfad5ebfce56256f.get_object(Bucket='phishingwebsite-donotdelete-pr-ffzyyzhfpoyzp4',Key='dataset_website.csv')['Body']\n",
    "# add missing __iter__ method, so pandas accepts body as file-like object\n",
    "if not hasattr(body, \"__iter__\"): body.__iter__ = types.MethodType( __iter__, body )\n",
    "\n",
    "df = pd.read_csv(body)\n",
    "df.head()\n"
   ]
  },
  {
   "cell_type": "code",
   "execution_count": 4,
   "metadata": {},
   "outputs": [
    {
     "data": {
      "text/html": [
       "<div>\n",
       "<style scoped>\n",
       "    .dataframe tbody tr th:only-of-type {\n",
       "        vertical-align: middle;\n",
       "    }\n",
       "\n",
       "    .dataframe tbody tr th {\n",
       "        vertical-align: top;\n",
       "    }\n",
       "\n",
       "    .dataframe thead th {\n",
       "        text-align: right;\n",
       "    }\n",
       "</style>\n",
       "<table border=\"1\" class=\"dataframe\">\n",
       "  <thead>\n",
       "    <tr style=\"text-align: right;\">\n",
       "      <th></th>\n",
       "      <th>index</th>\n",
       "      <th>having_IPhaving_IP_Address</th>\n",
       "      <th>URLURL_Length</th>\n",
       "      <th>Shortining_Service</th>\n",
       "      <th>having_At_Symbol</th>\n",
       "      <th>double_slash_redirecting</th>\n",
       "      <th>Prefix_Suffix</th>\n",
       "      <th>having_Sub_Domain</th>\n",
       "      <th>SSLfinal_State</th>\n",
       "      <th>Domain_registeration_length</th>\n",
       "      <th>...</th>\n",
       "      <th>popUpWidnow</th>\n",
       "      <th>Iframe</th>\n",
       "      <th>age_of_domain</th>\n",
       "      <th>DNSRecord</th>\n",
       "      <th>web_traffic</th>\n",
       "      <th>Page_Rank</th>\n",
       "      <th>Google_Index</th>\n",
       "      <th>Links_pointing_to_page</th>\n",
       "      <th>Statistical_report</th>\n",
       "      <th>Result</th>\n",
       "    </tr>\n",
       "  </thead>\n",
       "  <tbody>\n",
       "    <tr>\n",
       "      <th>0</th>\n",
       "      <td>1</td>\n",
       "      <td>-1</td>\n",
       "      <td>1</td>\n",
       "      <td>1</td>\n",
       "      <td>1</td>\n",
       "      <td>-1</td>\n",
       "      <td>-1</td>\n",
       "      <td>-1</td>\n",
       "      <td>-1</td>\n",
       "      <td>-1</td>\n",
       "      <td>...</td>\n",
       "      <td>1</td>\n",
       "      <td>1</td>\n",
       "      <td>-1</td>\n",
       "      <td>-1</td>\n",
       "      <td>-1</td>\n",
       "      <td>-1</td>\n",
       "      <td>1</td>\n",
       "      <td>1</td>\n",
       "      <td>-1</td>\n",
       "      <td>-1</td>\n",
       "    </tr>\n",
       "    <tr>\n",
       "      <th>1</th>\n",
       "      <td>2</td>\n",
       "      <td>1</td>\n",
       "      <td>1</td>\n",
       "      <td>1</td>\n",
       "      <td>1</td>\n",
       "      <td>1</td>\n",
       "      <td>-1</td>\n",
       "      <td>0</td>\n",
       "      <td>1</td>\n",
       "      <td>-1</td>\n",
       "      <td>...</td>\n",
       "      <td>1</td>\n",
       "      <td>1</td>\n",
       "      <td>-1</td>\n",
       "      <td>-1</td>\n",
       "      <td>0</td>\n",
       "      <td>-1</td>\n",
       "      <td>1</td>\n",
       "      <td>1</td>\n",
       "      <td>1</td>\n",
       "      <td>-1</td>\n",
       "    </tr>\n",
       "    <tr>\n",
       "      <th>2</th>\n",
       "      <td>3</td>\n",
       "      <td>1</td>\n",
       "      <td>0</td>\n",
       "      <td>1</td>\n",
       "      <td>1</td>\n",
       "      <td>1</td>\n",
       "      <td>-1</td>\n",
       "      <td>-1</td>\n",
       "      <td>-1</td>\n",
       "      <td>-1</td>\n",
       "      <td>...</td>\n",
       "      <td>1</td>\n",
       "      <td>1</td>\n",
       "      <td>1</td>\n",
       "      <td>-1</td>\n",
       "      <td>1</td>\n",
       "      <td>-1</td>\n",
       "      <td>1</td>\n",
       "      <td>0</td>\n",
       "      <td>-1</td>\n",
       "      <td>-1</td>\n",
       "    </tr>\n",
       "    <tr>\n",
       "      <th>3</th>\n",
       "      <td>4</td>\n",
       "      <td>1</td>\n",
       "      <td>0</td>\n",
       "      <td>1</td>\n",
       "      <td>1</td>\n",
       "      <td>1</td>\n",
       "      <td>-1</td>\n",
       "      <td>-1</td>\n",
       "      <td>-1</td>\n",
       "      <td>1</td>\n",
       "      <td>...</td>\n",
       "      <td>1</td>\n",
       "      <td>1</td>\n",
       "      <td>-1</td>\n",
       "      <td>-1</td>\n",
       "      <td>1</td>\n",
       "      <td>-1</td>\n",
       "      <td>1</td>\n",
       "      <td>-1</td>\n",
       "      <td>1</td>\n",
       "      <td>-1</td>\n",
       "    </tr>\n",
       "    <tr>\n",
       "      <th>4</th>\n",
       "      <td>5</td>\n",
       "      <td>1</td>\n",
       "      <td>0</td>\n",
       "      <td>-1</td>\n",
       "      <td>1</td>\n",
       "      <td>1</td>\n",
       "      <td>-1</td>\n",
       "      <td>1</td>\n",
       "      <td>1</td>\n",
       "      <td>-1</td>\n",
       "      <td>...</td>\n",
       "      <td>-1</td>\n",
       "      <td>1</td>\n",
       "      <td>-1</td>\n",
       "      <td>-1</td>\n",
       "      <td>0</td>\n",
       "      <td>-1</td>\n",
       "      <td>1</td>\n",
       "      <td>1</td>\n",
       "      <td>1</td>\n",
       "      <td>1</td>\n",
       "    </tr>\n",
       "    <tr>\n",
       "      <th>...</th>\n",
       "      <td>...</td>\n",
       "      <td>...</td>\n",
       "      <td>...</td>\n",
       "      <td>...</td>\n",
       "      <td>...</td>\n",
       "      <td>...</td>\n",
       "      <td>...</td>\n",
       "      <td>...</td>\n",
       "      <td>...</td>\n",
       "      <td>...</td>\n",
       "      <td>...</td>\n",
       "      <td>...</td>\n",
       "      <td>...</td>\n",
       "      <td>...</td>\n",
       "      <td>...</td>\n",
       "      <td>...</td>\n",
       "      <td>...</td>\n",
       "      <td>...</td>\n",
       "      <td>...</td>\n",
       "      <td>...</td>\n",
       "      <td>...</td>\n",
       "    </tr>\n",
       "    <tr>\n",
       "      <th>11050</th>\n",
       "      <td>11051</td>\n",
       "      <td>1</td>\n",
       "      <td>-1</td>\n",
       "      <td>1</td>\n",
       "      <td>-1</td>\n",
       "      <td>1</td>\n",
       "      <td>1</td>\n",
       "      <td>1</td>\n",
       "      <td>1</td>\n",
       "      <td>-1</td>\n",
       "      <td>...</td>\n",
       "      <td>-1</td>\n",
       "      <td>-1</td>\n",
       "      <td>1</td>\n",
       "      <td>1</td>\n",
       "      <td>-1</td>\n",
       "      <td>-1</td>\n",
       "      <td>1</td>\n",
       "      <td>1</td>\n",
       "      <td>1</td>\n",
       "      <td>1</td>\n",
       "    </tr>\n",
       "    <tr>\n",
       "      <th>11051</th>\n",
       "      <td>11052</td>\n",
       "      <td>-1</td>\n",
       "      <td>1</td>\n",
       "      <td>1</td>\n",
       "      <td>-1</td>\n",
       "      <td>-1</td>\n",
       "      <td>-1</td>\n",
       "      <td>1</td>\n",
       "      <td>-1</td>\n",
       "      <td>-1</td>\n",
       "      <td>...</td>\n",
       "      <td>-1</td>\n",
       "      <td>1</td>\n",
       "      <td>1</td>\n",
       "      <td>1</td>\n",
       "      <td>1</td>\n",
       "      <td>1</td>\n",
       "      <td>1</td>\n",
       "      <td>-1</td>\n",
       "      <td>1</td>\n",
       "      <td>-1</td>\n",
       "    </tr>\n",
       "    <tr>\n",
       "      <th>11052</th>\n",
       "      <td>11053</td>\n",
       "      <td>1</td>\n",
       "      <td>-1</td>\n",
       "      <td>1</td>\n",
       "      <td>1</td>\n",
       "      <td>1</td>\n",
       "      <td>-1</td>\n",
       "      <td>1</td>\n",
       "      <td>-1</td>\n",
       "      <td>-1</td>\n",
       "      <td>...</td>\n",
       "      <td>1</td>\n",
       "      <td>1</td>\n",
       "      <td>1</td>\n",
       "      <td>1</td>\n",
       "      <td>1</td>\n",
       "      <td>-1</td>\n",
       "      <td>1</td>\n",
       "      <td>0</td>\n",
       "      <td>1</td>\n",
       "      <td>-1</td>\n",
       "    </tr>\n",
       "    <tr>\n",
       "      <th>11053</th>\n",
       "      <td>11054</td>\n",
       "      <td>-1</td>\n",
       "      <td>-1</td>\n",
       "      <td>1</td>\n",
       "      <td>1</td>\n",
       "      <td>1</td>\n",
       "      <td>-1</td>\n",
       "      <td>-1</td>\n",
       "      <td>-1</td>\n",
       "      <td>1</td>\n",
       "      <td>...</td>\n",
       "      <td>-1</td>\n",
       "      <td>1</td>\n",
       "      <td>1</td>\n",
       "      <td>1</td>\n",
       "      <td>1</td>\n",
       "      <td>-1</td>\n",
       "      <td>1</td>\n",
       "      <td>1</td>\n",
       "      <td>1</td>\n",
       "      <td>-1</td>\n",
       "    </tr>\n",
       "    <tr>\n",
       "      <th>11054</th>\n",
       "      <td>11055</td>\n",
       "      <td>-1</td>\n",
       "      <td>-1</td>\n",
       "      <td>1</td>\n",
       "      <td>1</td>\n",
       "      <td>1</td>\n",
       "      <td>-1</td>\n",
       "      <td>-1</td>\n",
       "      <td>-1</td>\n",
       "      <td>1</td>\n",
       "      <td>...</td>\n",
       "      <td>1</td>\n",
       "      <td>1</td>\n",
       "      <td>-1</td>\n",
       "      <td>1</td>\n",
       "      <td>-1</td>\n",
       "      <td>-1</td>\n",
       "      <td>-1</td>\n",
       "      <td>1</td>\n",
       "      <td>-1</td>\n",
       "      <td>-1</td>\n",
       "    </tr>\n",
       "  </tbody>\n",
       "</table>\n",
       "<p>11055 rows × 32 columns</p>\n",
       "</div>"
      ],
      "text/plain": [
       "       index  having_IPhaving_IP_Address  URLURL_Length  Shortining_Service  \\\n",
       "0          1                          -1              1                   1   \n",
       "1          2                           1              1                   1   \n",
       "2          3                           1              0                   1   \n",
       "3          4                           1              0                   1   \n",
       "4          5                           1              0                  -1   \n",
       "...      ...                         ...            ...                 ...   \n",
       "11050  11051                           1             -1                   1   \n",
       "11051  11052                          -1              1                   1   \n",
       "11052  11053                           1             -1                   1   \n",
       "11053  11054                          -1             -1                   1   \n",
       "11054  11055                          -1             -1                   1   \n",
       "\n",
       "       having_At_Symbol  double_slash_redirecting  Prefix_Suffix  \\\n",
       "0                     1                        -1             -1   \n",
       "1                     1                         1             -1   \n",
       "2                     1                         1             -1   \n",
       "3                     1                         1             -1   \n",
       "4                     1                         1             -1   \n",
       "...                 ...                       ...            ...   \n",
       "11050                -1                         1              1   \n",
       "11051                -1                        -1             -1   \n",
       "11052                 1                         1             -1   \n",
       "11053                 1                         1             -1   \n",
       "11054                 1                         1             -1   \n",
       "\n",
       "       having_Sub_Domain  SSLfinal_State  Domain_registeration_length  ...  \\\n",
       "0                     -1              -1                           -1  ...   \n",
       "1                      0               1                           -1  ...   \n",
       "2                     -1              -1                           -1  ...   \n",
       "3                     -1              -1                            1  ...   \n",
       "4                      1               1                           -1  ...   \n",
       "...                  ...             ...                          ...  ...   \n",
       "11050                  1               1                           -1  ...   \n",
       "11051                  1              -1                           -1  ...   \n",
       "11052                  1              -1                           -1  ...   \n",
       "11053                 -1              -1                            1  ...   \n",
       "11054                 -1              -1                            1  ...   \n",
       "\n",
       "       popUpWidnow  Iframe  age_of_domain  DNSRecord  web_traffic  Page_Rank  \\\n",
       "0                1       1             -1         -1           -1         -1   \n",
       "1                1       1             -1         -1            0         -1   \n",
       "2                1       1              1         -1            1         -1   \n",
       "3                1       1             -1         -1            1         -1   \n",
       "4               -1       1             -1         -1            0         -1   \n",
       "...            ...     ...            ...        ...          ...        ...   \n",
       "11050           -1      -1              1          1           -1         -1   \n",
       "11051           -1       1              1          1            1          1   \n",
       "11052            1       1              1          1            1         -1   \n",
       "11053           -1       1              1          1            1         -1   \n",
       "11054            1       1             -1          1           -1         -1   \n",
       "\n",
       "       Google_Index  Links_pointing_to_page  Statistical_report  Result  \n",
       "0                 1                       1                  -1      -1  \n",
       "1                 1                       1                   1      -1  \n",
       "2                 1                       0                  -1      -1  \n",
       "3                 1                      -1                   1      -1  \n",
       "4                 1                       1                   1       1  \n",
       "...             ...                     ...                 ...     ...  \n",
       "11050             1                       1                   1       1  \n",
       "11051             1                      -1                   1      -1  \n",
       "11052             1                       0                   1      -1  \n",
       "11053             1                       1                   1      -1  \n",
       "11054            -1                       1                  -1      -1  \n",
       "\n",
       "[11055 rows x 32 columns]"
      ]
     },
     "execution_count": 4,
     "metadata": {},
     "output_type": "execute_result"
    }
   ],
   "source": [
    "df"
   ]
  },
  {
   "cell_type": "code",
   "execution_count": 5,
   "metadata": {},
   "outputs": [
    {
     "data": {
      "text/plain": [
       "index                          0\n",
       "having_IPhaving_IP_Address     0\n",
       "URLURL_Length                  0\n",
       "Shortining_Service             0\n",
       "having_At_Symbol               0\n",
       "double_slash_redirecting       0\n",
       "Prefix_Suffix                  0\n",
       "having_Sub_Domain              0\n",
       "SSLfinal_State                 0\n",
       "Domain_registeration_length    0\n",
       "Favicon                        0\n",
       "port                           0\n",
       "HTTPS_token                    0\n",
       "Request_URL                    0\n",
       "URL_of_Anchor                  0\n",
       "Links_in_tags                  0\n",
       "SFH                            0\n",
       "Submitting_to_email            0\n",
       "Abnormal_URL                   0\n",
       "Redirect                       0\n",
       "on_mouseover                   0\n",
       "RightClick                     0\n",
       "popUpWidnow                    0\n",
       "Iframe                         0\n",
       "age_of_domain                  0\n",
       "DNSRecord                      0\n",
       "web_traffic                    0\n",
       "Page_Rank                      0\n",
       "Google_Index                   0\n",
       "Links_pointing_to_page         0\n",
       "Statistical_report             0\n",
       "Result                         0\n",
       "dtype: int64"
      ]
     },
     "execution_count": 5,
     "metadata": {},
     "output_type": "execute_result"
    }
   ],
   "source": [
    "df.isnull().sum()"
   ]
  },
  {
   "cell_type": "code",
   "execution_count": 6,
   "metadata": {},
   "outputs": [
    {
     "data": {
      "text/plain": [
       "(11055, 32)"
      ]
     },
     "execution_count": 6,
     "metadata": {},
     "output_type": "execute_result"
    }
   ],
   "source": [
    "df.shape"
   ]
  },
  {
   "cell_type": "code",
   "execution_count": 7,
   "metadata": {},
   "outputs": [
    {
     "data": {
      "text/html": [
       "<div>\n",
       "<style scoped>\n",
       "    .dataframe tbody tr th:only-of-type {\n",
       "        vertical-align: middle;\n",
       "    }\n",
       "\n",
       "    .dataframe tbody tr th {\n",
       "        vertical-align: top;\n",
       "    }\n",
       "\n",
       "    .dataframe thead th {\n",
       "        text-align: right;\n",
       "    }\n",
       "</style>\n",
       "<table border=\"1\" class=\"dataframe\">\n",
       "  <thead>\n",
       "    <tr style=\"text-align: right;\">\n",
       "      <th></th>\n",
       "      <th>index</th>\n",
       "      <th>having_IPhaving_IP_Address</th>\n",
       "      <th>URLURL_Length</th>\n",
       "      <th>Shortining_Service</th>\n",
       "      <th>having_At_Symbol</th>\n",
       "      <th>double_slash_redirecting</th>\n",
       "      <th>Prefix_Suffix</th>\n",
       "      <th>having_Sub_Domain</th>\n",
       "      <th>SSLfinal_State</th>\n",
       "      <th>Domain_registeration_length</th>\n",
       "      <th>...</th>\n",
       "      <th>popUpWidnow</th>\n",
       "      <th>Iframe</th>\n",
       "      <th>age_of_domain</th>\n",
       "      <th>DNSRecord</th>\n",
       "      <th>web_traffic</th>\n",
       "      <th>Page_Rank</th>\n",
       "      <th>Google_Index</th>\n",
       "      <th>Links_pointing_to_page</th>\n",
       "      <th>Statistical_report</th>\n",
       "      <th>Result</th>\n",
       "    </tr>\n",
       "  </thead>\n",
       "  <tbody>\n",
       "    <tr>\n",
       "      <th>0</th>\n",
       "      <td>1</td>\n",
       "      <td>-1</td>\n",
       "      <td>1</td>\n",
       "      <td>1</td>\n",
       "      <td>1</td>\n",
       "      <td>-1</td>\n",
       "      <td>-1</td>\n",
       "      <td>-1</td>\n",
       "      <td>-1</td>\n",
       "      <td>-1</td>\n",
       "      <td>...</td>\n",
       "      <td>1</td>\n",
       "      <td>1</td>\n",
       "      <td>-1</td>\n",
       "      <td>-1</td>\n",
       "      <td>-1</td>\n",
       "      <td>-1</td>\n",
       "      <td>1</td>\n",
       "      <td>1</td>\n",
       "      <td>-1</td>\n",
       "      <td>-1</td>\n",
       "    </tr>\n",
       "    <tr>\n",
       "      <th>1</th>\n",
       "      <td>2</td>\n",
       "      <td>1</td>\n",
       "      <td>1</td>\n",
       "      <td>1</td>\n",
       "      <td>1</td>\n",
       "      <td>1</td>\n",
       "      <td>-1</td>\n",
       "      <td>0</td>\n",
       "      <td>1</td>\n",
       "      <td>-1</td>\n",
       "      <td>...</td>\n",
       "      <td>1</td>\n",
       "      <td>1</td>\n",
       "      <td>-1</td>\n",
       "      <td>-1</td>\n",
       "      <td>0</td>\n",
       "      <td>-1</td>\n",
       "      <td>1</td>\n",
       "      <td>1</td>\n",
       "      <td>1</td>\n",
       "      <td>-1</td>\n",
       "    </tr>\n",
       "    <tr>\n",
       "      <th>2</th>\n",
       "      <td>3</td>\n",
       "      <td>1</td>\n",
       "      <td>0</td>\n",
       "      <td>1</td>\n",
       "      <td>1</td>\n",
       "      <td>1</td>\n",
       "      <td>-1</td>\n",
       "      <td>-1</td>\n",
       "      <td>-1</td>\n",
       "      <td>-1</td>\n",
       "      <td>...</td>\n",
       "      <td>1</td>\n",
       "      <td>1</td>\n",
       "      <td>1</td>\n",
       "      <td>-1</td>\n",
       "      <td>1</td>\n",
       "      <td>-1</td>\n",
       "      <td>1</td>\n",
       "      <td>0</td>\n",
       "      <td>-1</td>\n",
       "      <td>-1</td>\n",
       "    </tr>\n",
       "    <tr>\n",
       "      <th>3</th>\n",
       "      <td>4</td>\n",
       "      <td>1</td>\n",
       "      <td>0</td>\n",
       "      <td>1</td>\n",
       "      <td>1</td>\n",
       "      <td>1</td>\n",
       "      <td>-1</td>\n",
       "      <td>-1</td>\n",
       "      <td>-1</td>\n",
       "      <td>1</td>\n",
       "      <td>...</td>\n",
       "      <td>1</td>\n",
       "      <td>1</td>\n",
       "      <td>-1</td>\n",
       "      <td>-1</td>\n",
       "      <td>1</td>\n",
       "      <td>-1</td>\n",
       "      <td>1</td>\n",
       "      <td>-1</td>\n",
       "      <td>1</td>\n",
       "      <td>-1</td>\n",
       "    </tr>\n",
       "    <tr>\n",
       "      <th>4</th>\n",
       "      <td>5</td>\n",
       "      <td>1</td>\n",
       "      <td>0</td>\n",
       "      <td>-1</td>\n",
       "      <td>1</td>\n",
       "      <td>1</td>\n",
       "      <td>-1</td>\n",
       "      <td>1</td>\n",
       "      <td>1</td>\n",
       "      <td>-1</td>\n",
       "      <td>...</td>\n",
       "      <td>-1</td>\n",
       "      <td>1</td>\n",
       "      <td>-1</td>\n",
       "      <td>-1</td>\n",
       "      <td>0</td>\n",
       "      <td>-1</td>\n",
       "      <td>1</td>\n",
       "      <td>1</td>\n",
       "      <td>1</td>\n",
       "      <td>1</td>\n",
       "    </tr>\n",
       "  </tbody>\n",
       "</table>\n",
       "<p>5 rows × 32 columns</p>\n",
       "</div>"
      ],
      "text/plain": [
       "   index  having_IPhaving_IP_Address  URLURL_Length  Shortining_Service  \\\n",
       "0      1                          -1              1                   1   \n",
       "1      2                           1              1                   1   \n",
       "2      3                           1              0                   1   \n",
       "3      4                           1              0                   1   \n",
       "4      5                           1              0                  -1   \n",
       "\n",
       "   having_At_Symbol  double_slash_redirecting  Prefix_Suffix  \\\n",
       "0                 1                        -1             -1   \n",
       "1                 1                         1             -1   \n",
       "2                 1                         1             -1   \n",
       "3                 1                         1             -1   \n",
       "4                 1                         1             -1   \n",
       "\n",
       "   having_Sub_Domain  SSLfinal_State  Domain_registeration_length  ...  \\\n",
       "0                 -1              -1                           -1  ...   \n",
       "1                  0               1                           -1  ...   \n",
       "2                 -1              -1                           -1  ...   \n",
       "3                 -1              -1                            1  ...   \n",
       "4                  1               1                           -1  ...   \n",
       "\n",
       "   popUpWidnow  Iframe  age_of_domain  DNSRecord  web_traffic  Page_Rank  \\\n",
       "0            1       1             -1         -1           -1         -1   \n",
       "1            1       1             -1         -1            0         -1   \n",
       "2            1       1              1         -1            1         -1   \n",
       "3            1       1             -1         -1            1         -1   \n",
       "4           -1       1             -1         -1            0         -1   \n",
       "\n",
       "   Google_Index  Links_pointing_to_page  Statistical_report  Result  \n",
       "0             1                       1                  -1      -1  \n",
       "1             1                       1                   1      -1  \n",
       "2             1                       0                  -1      -1  \n",
       "3             1                      -1                   1      -1  \n",
       "4             1                       1                   1       1  \n",
       "\n",
       "[5 rows x 32 columns]"
      ]
     },
     "execution_count": 7,
     "metadata": {},
     "output_type": "execute_result"
    }
   ],
   "source": [
    "df.head()"
   ]
  },
  {
   "cell_type": "code",
   "execution_count": 8,
   "metadata": {},
   "outputs": [
    {
     "data": {
      "text/plain": [
       "array([[-1,  1,  1, ...,  1,  1, -1],\n",
       "       [ 1,  1,  1, ...,  1,  1,  1],\n",
       "       [ 1,  0,  1, ...,  1,  0, -1],\n",
       "       ...,\n",
       "       [ 1, -1,  1, ...,  1,  0,  1],\n",
       "       [-1, -1,  1, ...,  1,  1,  1],\n",
       "       [-1, -1,  1, ..., -1,  1, -1]])"
      ]
     },
     "execution_count": 8,
     "metadata": {},
     "output_type": "execute_result"
    }
   ],
   "source": [
    "x = df.iloc[:,1:31].values\n",
    "x"
   ]
  },
  {
   "cell_type": "code",
   "execution_count": 9,
   "metadata": {},
   "outputs": [
    {
     "data": {
      "text/plain": [
       "array([-1, -1, -1, ..., -1, -1, -1])"
      ]
     },
     "execution_count": 9,
     "metadata": {},
     "output_type": "execute_result"
    }
   ],
   "source": [
    "y = df.iloc[:,-1].values\n",
    "y"
   ]
  },
  {
   "cell_type": "code",
   "execution_count": 10,
   "metadata": {},
   "outputs": [],
   "source": [
    "y1=[]\n",
    "for i in y:\n",
    "    if(i==1):\n",
    "        y1.append(1)\n",
    "    else:\n",
    "        y1.append(0)"
   ]
  },
  {
   "cell_type": "code",
   "execution_count": 11,
   "metadata": {},
   "outputs": [],
   "source": [
    "y1=np.array(y1)"
   ]
  },
  {
   "cell_type": "code",
   "execution_count": 12,
   "metadata": {},
   "outputs": [
    {
     "data": {
      "text/plain": [
       "array([-1, -1, -1, ..., -1, -1, -1])"
      ]
     },
     "execution_count": 12,
     "metadata": {},
     "output_type": "execute_result"
    }
   ],
   "source": [
    "y"
   ]
  },
  {
   "cell_type": "code",
   "execution_count": 13,
   "metadata": {},
   "outputs": [
    {
     "data": {
      "text/plain": [
       "array([0, 0, 0, ..., 0, 0, 0])"
      ]
     },
     "execution_count": 13,
     "metadata": {},
     "output_type": "execute_result"
    }
   ],
   "source": [
    "y1"
   ]
  },
  {
   "cell_type": "code",
   "execution_count": 14,
   "metadata": {},
   "outputs": [],
   "source": [
    "from sklearn.model_selection import train_test_split\n",
    "x_train,x_test,y_train,y_test = train_test_split(x,y1,test_size=0.25,random_state=0)"
   ]
  },
  {
   "cell_type": "code",
   "execution_count": 15,
   "metadata": {},
   "outputs": [
    {
     "data": {
      "text/plain": [
       "(8291, 30)"
      ]
     },
     "execution_count": 15,
     "metadata": {},
     "output_type": "execute_result"
    }
   ],
   "source": [
    "x_train.shape"
   ]
  },
  {
   "cell_type": "code",
   "execution_count": 16,
   "metadata": {},
   "outputs": [
    {
     "data": {
      "text/plain": [
       "(8291,)"
      ]
     },
     "execution_count": 16,
     "metadata": {},
     "output_type": "execute_result"
    }
   ],
   "source": [
    "y_train.shape"
   ]
  },
  {
   "cell_type": "code",
   "execution_count": 17,
   "metadata": {},
   "outputs": [
    {
     "data": {
      "text/plain": [
       "(2764, 30)"
      ]
     },
     "execution_count": 17,
     "metadata": {},
     "output_type": "execute_result"
    }
   ],
   "source": [
    "x_test.shape"
   ]
  },
  {
   "cell_type": "code",
   "execution_count": 18,
   "metadata": {},
   "outputs": [
    {
     "data": {
      "text/plain": [
       "(2764,)"
      ]
     },
     "execution_count": 18,
     "metadata": {},
     "output_type": "execute_result"
    }
   ],
   "source": [
    "y_test.shape"
   ]
  },
  {
   "cell_type": "code",
   "execution_count": 19,
   "metadata": {},
   "outputs": [
    {
     "data": {
      "text/plain": [
       "array([0, 0, 0, ..., 0, 1, 0])"
      ]
     },
     "execution_count": 19,
     "metadata": {},
     "output_type": "execute_result"
    }
   ],
   "source": [
    "y_test"
   ]
  },
  {
   "cell_type": "code",
   "execution_count": 20,
   "metadata": {},
   "outputs": [],
   "source": [
    "from sklearn.preprocessing import StandardScaler\n",
    "sc = StandardScaler()"
   ]
  },
  {
   "cell_type": "code",
   "execution_count": 21,
   "metadata": {},
   "outputs": [],
   "source": [
    "x_train = sc.fit_transform(x_train)\n",
    "x_test = sc.transform(x_test)"
   ]
  },
  {
   "cell_type": "code",
   "execution_count": 22,
   "metadata": {},
   "outputs": [
    {
     "data": {
      "text/plain": [
       "array([[ 0.72742047, -0.48353993,  0.38741472, ...,  0.40312158,\n",
       "        -0.60235956,  0.40856419],\n",
       "       [ 0.72742047, -0.48353993,  0.38741472, ...,  0.40312158,\n",
       "        -0.60235956,  0.40856419],\n",
       "       [ 0.72742047, -0.48353993,  0.38741472, ...,  0.40312158,\n",
       "         1.14446209,  0.40856419],\n",
       "       ...,\n",
       "       [-1.37472073, -0.48353993, -2.58121323, ...,  0.40312158,\n",
       "         1.14446209, -2.44759578],\n",
       "       [-1.37472073, -0.48353993,  0.38741472, ...,  0.40312158,\n",
       "         1.14446209,  0.40856419],\n",
       "       [ 0.72742047, -0.48353993,  0.38741472, ...,  0.40312158,\n",
       "        -0.60235956,  0.40856419]])"
      ]
     },
     "execution_count": 22,
     "metadata": {},
     "output_type": "execute_result"
    }
   ],
   "source": [
    "x_test"
   ]
  },
  {
   "cell_type": "code",
   "execution_count": null,
   "metadata": {},
   "outputs": [],
   "source": []
  },
  {
   "cell_type": "code",
   "execution_count": null,
   "metadata": {},
   "outputs": [],
   "source": []
  },
  {
   "cell_type": "code",
   "execution_count": null,
   "metadata": {},
   "outputs": [],
   "source": []
  },
  {
   "cell_type": "code",
   "execution_count": 23,
   "metadata": {},
   "outputs": [
    {
     "data": {
      "text/plain": [
       "array([1, 1, 1, ..., 1, 0, 0])"
      ]
     },
     "execution_count": 23,
     "metadata": {},
     "output_type": "execute_result"
    }
   ],
   "source": [
    "y_train"
   ]
  },
  {
   "cell_type": "code",
   "execution_count": 24,
   "metadata": {},
   "outputs": [],
   "source": [
    "from tensorflow.keras.models import Sequential\n",
    "from tensorflow.keras.layers import Dense,Dropout "
   ]
  },
  {
   "cell_type": "code",
   "execution_count": 25,
   "metadata": {},
   "outputs": [],
   "source": [
    "Regression_Model = Sequential()"
   ]
  },
  {
   "cell_type": "code",
   "execution_count": 26,
   "metadata": {},
   "outputs": [],
   "source": [
    "Regression_Model.add(Dense(units=30, kernel_initializer=\"random_uniform\", activation=\"relu\"))"
   ]
  },
  {
   "cell_type": "code",
   "execution_count": 27,
   "metadata": {},
   "outputs": [],
   "source": [
    "Regression_Model.add(Dense(units=60, kernel_initializer=\"random_uniform\", activation=\"relu\"))"
   ]
  },
  {
   "cell_type": "code",
   "execution_count": 28,
   "metadata": {},
   "outputs": [],
   "source": [
    "Regression_Model.add(Dropout(0.2))"
   ]
  },
  {
   "cell_type": "code",
   "execution_count": 29,
   "metadata": {},
   "outputs": [],
   "source": [
    "Regression_Model.add(Dense(units=60, kernel_initializer=\"random_uniform\", activation=\"relu\"))"
   ]
  },
  {
   "cell_type": "code",
   "execution_count": 30,
   "metadata": {},
   "outputs": [],
   "source": [
    "Regression_Model.add(Dropout(0.2))"
   ]
  },
  {
   "cell_type": "code",
   "execution_count": 31,
   "metadata": {},
   "outputs": [],
   "source": [
    "Regression_Model.add(Dense(units=1, kernel_initializer=\"random_uniform\", activation=\"sigmoid\"))"
   ]
  },
  {
   "cell_type": "code",
   "execution_count": 32,
   "metadata": {},
   "outputs": [],
   "source": [
    "Regression_Model.compile(optimizer = \"rmsprop\",loss =\"binary_crossentropy\", metrics = [\"accuracy\"] )"
   ]
  },
  {
   "cell_type": "code",
   "execution_count": 33,
   "metadata": {},
   "outputs": [
    {
     "name": "stdout",
     "output_type": "stream",
     "text": [
      "Epoch 1/100\n",
      "130/130 [==============================] - 1s 6ms/step - loss: 0.4698 - accuracy: 0.8192 - val_loss: 0.1876 - val_accuracy: 0.9255\n",
      "Epoch 2/100\n",
      "130/130 [==============================] - 0s 2ms/step - loss: 0.1845 - accuracy: 0.9301 - val_loss: 0.1733 - val_accuracy: 0.9313\n",
      "Epoch 3/100\n",
      "130/130 [==============================] - 0s 2ms/step - loss: 0.1616 - accuracy: 0.9368 - val_loss: 0.1587 - val_accuracy: 0.9342\n",
      "Epoch 4/100\n",
      "130/130 [==============================] - 0s 2ms/step - loss: 0.1601 - accuracy: 0.9389 - val_loss: 0.1525 - val_accuracy: 0.9414\n",
      "Epoch 5/100\n",
      "130/130 [==============================] - 0s 2ms/step - loss: 0.1319 - accuracy: 0.9480 - val_loss: 0.1410 - val_accuracy: 0.9425\n",
      "Epoch 6/100\n",
      "130/130 [==============================] - 0s 2ms/step - loss: 0.1256 - accuracy: 0.9515 - val_loss: 0.1369 - val_accuracy: 0.9432\n",
      "Epoch 7/100\n",
      "130/130 [==============================] - 0s 2ms/step - loss: 0.1177 - accuracy: 0.9559 - val_loss: 0.1332 - val_accuracy: 0.9472\n",
      "Epoch 8/100\n",
      "130/130 [==============================] - 0s 2ms/step - loss: 0.1133 - accuracy: 0.9561 - val_loss: 0.1276 - val_accuracy: 0.9526\n",
      "Epoch 9/100\n",
      "130/130 [==============================] - 0s 2ms/step - loss: 0.1080 - accuracy: 0.9576 - val_loss: 0.1224 - val_accuracy: 0.9530\n",
      "Epoch 10/100\n",
      "130/130 [==============================] - 0s 2ms/step - loss: 0.1054 - accuracy: 0.9612 - val_loss: 0.1192 - val_accuracy: 0.9562\n",
      "Epoch 11/100\n",
      "130/130 [==============================] - 0s 1ms/step - loss: 0.0972 - accuracy: 0.9622 - val_loss: 0.1231 - val_accuracy: 0.9515\n",
      "Epoch 12/100\n",
      "130/130 [==============================] - 0s 1ms/step - loss: 0.0886 - accuracy: 0.9644 - val_loss: 0.1197 - val_accuracy: 0.9533\n",
      "Epoch 13/100\n",
      "130/130 [==============================] - 0s 2ms/step - loss: 0.0804 - accuracy: 0.9684 - val_loss: 0.1241 - val_accuracy: 0.9483\n",
      "Epoch 14/100\n",
      "130/130 [==============================] - 0s 2ms/step - loss: 0.0874 - accuracy: 0.9660 - val_loss: 0.1113 - val_accuracy: 0.9573\n",
      "Epoch 15/100\n",
      "130/130 [==============================] - 0s 2ms/step - loss: 0.0814 - accuracy: 0.9683 - val_loss: 0.1100 - val_accuracy: 0.9595\n",
      "Epoch 16/100\n",
      "130/130 [==============================] - 0s 2ms/step - loss: 0.0769 - accuracy: 0.9700 - val_loss: 0.1105 - val_accuracy: 0.9544\n",
      "Epoch 17/100\n",
      "130/130 [==============================] - 0s 2ms/step - loss: 0.0757 - accuracy: 0.9705 - val_loss: 0.1058 - val_accuracy: 0.9588\n",
      "Epoch 18/100\n",
      "130/130 [==============================] - 0s 2ms/step - loss: 0.0773 - accuracy: 0.9706 - val_loss: 0.1092 - val_accuracy: 0.9613\n",
      "Epoch 19/100\n",
      "130/130 [==============================] - 0s 2ms/step - loss: 0.0728 - accuracy: 0.9720 - val_loss: 0.1263 - val_accuracy: 0.9519\n",
      "Epoch 20/100\n",
      "130/130 [==============================] - 0s 2ms/step - loss: 0.0697 - accuracy: 0.9746 - val_loss: 0.1077 - val_accuracy: 0.9584\n",
      "Epoch 21/100\n",
      "130/130 [==============================] - 0s 2ms/step - loss: 0.0645 - accuracy: 0.9745 - val_loss: 0.1097 - val_accuracy: 0.9588\n",
      "Epoch 22/100\n",
      "130/130 [==============================] - 0s 2ms/step - loss: 0.0701 - accuracy: 0.9722 - val_loss: 0.1076 - val_accuracy: 0.9598\n",
      "Epoch 23/100\n",
      "130/130 [==============================] - 0s 2ms/step - loss: 0.0698 - accuracy: 0.9735 - val_loss: 0.1138 - val_accuracy: 0.9573\n",
      "Epoch 24/100\n",
      "130/130 [==============================] - 0s 2ms/step - loss: 0.0662 - accuracy: 0.9771 - val_loss: 0.1175 - val_accuracy: 0.9588\n",
      "Epoch 25/100\n",
      "130/130 [==============================] - 0s 2ms/step - loss: 0.0626 - accuracy: 0.9755 - val_loss: 0.1144 - val_accuracy: 0.9620\n",
      "Epoch 26/100\n",
      "130/130 [==============================] - 0s 2ms/step - loss: 0.0624 - accuracy: 0.9761 - val_loss: 0.1015 - val_accuracy: 0.9616\n",
      "Epoch 27/100\n",
      "130/130 [==============================] - 0s 2ms/step - loss: 0.0641 - accuracy: 0.9771 - val_loss: 0.1082 - val_accuracy: 0.9624\n",
      "Epoch 28/100\n",
      "130/130 [==============================] - 0s 2ms/step - loss: 0.0562 - accuracy: 0.9775 - val_loss: 0.1118 - val_accuracy: 0.9588\n",
      "Epoch 29/100\n",
      "130/130 [==============================] - 0s 2ms/step - loss: 0.0603 - accuracy: 0.9757 - val_loss: 0.1039 - val_accuracy: 0.9613\n",
      "Epoch 30/100\n",
      "130/130 [==============================] - 0s 2ms/step - loss: 0.0563 - accuracy: 0.9777 - val_loss: 0.1144 - val_accuracy: 0.9591\n",
      "Epoch 31/100\n",
      "130/130 [==============================] - 0s 2ms/step - loss: 0.0681 - accuracy: 0.9748 - val_loss: 0.1344 - val_accuracy: 0.9555\n",
      "Epoch 32/100\n",
      "130/130 [==============================] - 0s 1ms/step - loss: 0.0568 - accuracy: 0.9797 - val_loss: 0.1031 - val_accuracy: 0.9638\n",
      "Epoch 33/100\n",
      "130/130 [==============================] - 0s 2ms/step - loss: 0.0623 - accuracy: 0.9767 - val_loss: 0.1248 - val_accuracy: 0.9606\n",
      "Epoch 34/100\n",
      "130/130 [==============================] - 0s 2ms/step - loss: 0.0579 - accuracy: 0.9785 - val_loss: 0.1100 - val_accuracy: 0.9620\n",
      "Epoch 35/100\n",
      "130/130 [==============================] - 0s 2ms/step - loss: 0.0518 - accuracy: 0.9810 - val_loss: 0.1046 - val_accuracy: 0.9642\n",
      "Epoch 36/100\n",
      "130/130 [==============================] - 0s 2ms/step - loss: 0.0542 - accuracy: 0.9810 - val_loss: 0.1019 - val_accuracy: 0.9656\n",
      "Epoch 37/100\n",
      "130/130 [==============================] - 0s 1ms/step - loss: 0.0581 - accuracy: 0.9766 - val_loss: 0.1045 - val_accuracy: 0.9642\n",
      "Epoch 38/100\n",
      "130/130 [==============================] - 0s 2ms/step - loss: 0.0609 - accuracy: 0.9767 - val_loss: 0.1089 - val_accuracy: 0.9635\n",
      "Epoch 39/100\n",
      "130/130 [==============================] - 0s 2ms/step - loss: 0.0546 - accuracy: 0.9772 - val_loss: 0.1102 - val_accuracy: 0.9638\n",
      "Epoch 40/100\n",
      "130/130 [==============================] - 0s 2ms/step - loss: 0.0570 - accuracy: 0.9769 - val_loss: 0.1139 - val_accuracy: 0.9631\n",
      "Epoch 41/100\n",
      "130/130 [==============================] - 0s 2ms/step - loss: 0.0634 - accuracy: 0.9732 - val_loss: 0.1297 - val_accuracy: 0.9616\n",
      "Epoch 42/100\n",
      "130/130 [==============================] - 0s 2ms/step - loss: 0.0565 - accuracy: 0.9759 - val_loss: 0.1133 - val_accuracy: 0.9656\n",
      "Epoch 43/100\n",
      "130/130 [==============================] - 0s 2ms/step - loss: 0.0559 - accuracy: 0.9770 - val_loss: 0.1144 - val_accuracy: 0.9627\n",
      "Epoch 44/100\n",
      "130/130 [==============================] - 0s 2ms/step - loss: 0.0565 - accuracy: 0.9756 - val_loss: 0.1149 - val_accuracy: 0.9649\n",
      "Epoch 45/100\n",
      "130/130 [==============================] - 0s 2ms/step - loss: 0.0539 - accuracy: 0.9797 - val_loss: 0.1164 - val_accuracy: 0.9667\n",
      "Epoch 46/100\n",
      "130/130 [==============================] - 0s 2ms/step - loss: 0.0484 - accuracy: 0.9825 - val_loss: 0.1468 - val_accuracy: 0.9609\n",
      "Epoch 47/100\n",
      "130/130 [==============================] - 0s 1ms/step - loss: 0.0479 - accuracy: 0.9801 - val_loss: 0.1208 - val_accuracy: 0.9627\n",
      "Epoch 48/100\n",
      "130/130 [==============================] - 0s 2ms/step - loss: 0.0525 - accuracy: 0.9799 - val_loss: 0.1274 - val_accuracy: 0.9642\n",
      "Epoch 49/100\n",
      "130/130 [==============================] - 0s 2ms/step - loss: 0.0501 - accuracy: 0.9804 - val_loss: 0.1152 - val_accuracy: 0.9635\n",
      "Epoch 50/100\n",
      "130/130 [==============================] - 0s 2ms/step - loss: 0.0470 - accuracy: 0.9816 - val_loss: 0.1257 - val_accuracy: 0.9620\n",
      "Epoch 51/100\n",
      "130/130 [==============================] - 0s 2ms/step - loss: 0.0486 - accuracy: 0.9820 - val_loss: 0.1339 - val_accuracy: 0.9609\n",
      "Epoch 52/100\n",
      "130/130 [==============================] - 0s 2ms/step - loss: 0.0536 - accuracy: 0.9787 - val_loss: 0.1181 - val_accuracy: 0.9674\n",
      "Epoch 53/100\n",
      "130/130 [==============================] - 0s 2ms/step - loss: 0.0519 - accuracy: 0.9797 - val_loss: 0.1268 - val_accuracy: 0.9667\n",
      "Epoch 54/100\n",
      "130/130 [==============================] - 0s 2ms/step - loss: 0.0442 - accuracy: 0.9830 - val_loss: 0.1181 - val_accuracy: 0.9671\n",
      "Epoch 55/100\n",
      "130/130 [==============================] - 0s 2ms/step - loss: 0.0516 - accuracy: 0.9778 - val_loss: 0.1423 - val_accuracy: 0.9602\n",
      "Epoch 56/100\n",
      "130/130 [==============================] - 0s 2ms/step - loss: 0.0535 - accuracy: 0.9785 - val_loss: 0.1137 - val_accuracy: 0.9678\n",
      "Epoch 57/100\n",
      "130/130 [==============================] - 0s 2ms/step - loss: 0.0510 - accuracy: 0.9799 - val_loss: 0.1171 - val_accuracy: 0.9682\n",
      "Epoch 58/100\n",
      "130/130 [==============================] - 0s 2ms/step - loss: 0.0449 - accuracy: 0.9803 - val_loss: 0.1318 - val_accuracy: 0.9649\n",
      "Epoch 59/100\n",
      "130/130 [==============================] - 0s 2ms/step - loss: 0.0514 - accuracy: 0.9809 - val_loss: 0.1289 - val_accuracy: 0.9692\n",
      "Epoch 60/100\n",
      "130/130 [==============================] - 0s 2ms/step - loss: 0.0438 - accuracy: 0.9817 - val_loss: 0.1355 - val_accuracy: 0.9638\n",
      "Epoch 61/100\n",
      "130/130 [==============================] - 0s 1ms/step - loss: 0.0464 - accuracy: 0.9780 - val_loss: 0.1236 - val_accuracy: 0.9674\n",
      "Epoch 62/100\n",
      "130/130 [==============================] - 0s 2ms/step - loss: 0.0459 - accuracy: 0.9830 - val_loss: 0.1415 - val_accuracy: 0.9653\n",
      "Epoch 63/100\n",
      "130/130 [==============================] - 0s 2ms/step - loss: 0.0441 - accuracy: 0.9825 - val_loss: 0.1253 - val_accuracy: 0.9635\n",
      "Epoch 64/100\n",
      "130/130 [==============================] - 0s 2ms/step - loss: 0.0460 - accuracy: 0.9830 - val_loss: 0.1343 - val_accuracy: 0.9624\n",
      "Epoch 65/100\n",
      "130/130 [==============================] - 0s 2ms/step - loss: 0.0491 - accuracy: 0.9790 - val_loss: 0.1354 - val_accuracy: 0.9671\n",
      "Epoch 66/100\n",
      "130/130 [==============================] - 0s 1ms/step - loss: 0.0455 - accuracy: 0.9837 - val_loss: 0.1504 - val_accuracy: 0.9624\n",
      "Epoch 67/100\n",
      "130/130 [==============================] - 0s 2ms/step - loss: 0.0489 - accuracy: 0.9820 - val_loss: 0.1465 - val_accuracy: 0.9674\n",
      "Epoch 68/100\n",
      "130/130 [==============================] - 0s 2ms/step - loss: 0.0453 - accuracy: 0.9816 - val_loss: 0.1384 - val_accuracy: 0.9642\n",
      "Epoch 69/100\n",
      "130/130 [==============================] - 0s 2ms/step - loss: 0.0482 - accuracy: 0.9830 - val_loss: 0.1435 - val_accuracy: 0.9660\n",
      "Epoch 70/100\n",
      "130/130 [==============================] - 0s 2ms/step - loss: 0.0461 - accuracy: 0.9833 - val_loss: 0.1337 - val_accuracy: 0.9642\n",
      "Epoch 71/100\n",
      "130/130 [==============================] - 0s 2ms/step - loss: 0.0466 - accuracy: 0.9822 - val_loss: 0.1444 - val_accuracy: 0.9642\n",
      "Epoch 72/100\n",
      "130/130 [==============================] - 0s 2ms/step - loss: 0.0434 - accuracy: 0.9823 - val_loss: 0.1442 - val_accuracy: 0.9674\n",
      "Epoch 73/100\n",
      "130/130 [==============================] - 0s 2ms/step - loss: 0.0442 - accuracy: 0.9833 - val_loss: 0.1526 - val_accuracy: 0.9620\n",
      "Epoch 74/100\n",
      "130/130 [==============================] - 0s 2ms/step - loss: 0.0480 - accuracy: 0.9827 - val_loss: 0.1475 - val_accuracy: 0.9656\n",
      "Epoch 75/100\n",
      "130/130 [==============================] - 0s 2ms/step - loss: 0.0483 - accuracy: 0.9819 - val_loss: 0.1481 - val_accuracy: 0.9649\n",
      "Epoch 76/100\n",
      "130/130 [==============================] - 0s 2ms/step - loss: 0.0427 - accuracy: 0.9835 - val_loss: 0.1438 - val_accuracy: 0.9664\n",
      "Epoch 77/100\n",
      "130/130 [==============================] - 0s 2ms/step - loss: 0.0458 - accuracy: 0.9823 - val_loss: 0.1416 - val_accuracy: 0.9671\n",
      "Epoch 78/100\n",
      "130/130 [==============================] - 0s 2ms/step - loss: 0.0453 - accuracy: 0.9823 - val_loss: 0.1512 - val_accuracy: 0.9645\n",
      "Epoch 79/100\n",
      "130/130 [==============================] - 0s 2ms/step - loss: 0.0431 - accuracy: 0.9840 - val_loss: 0.1461 - val_accuracy: 0.9656\n",
      "Epoch 80/100\n",
      "130/130 [==============================] - 0s 1ms/step - loss: 0.0401 - accuracy: 0.9831 - val_loss: 0.1537 - val_accuracy: 0.9674\n",
      "Epoch 81/100\n",
      "130/130 [==============================] - 0s 1ms/step - loss: 0.0419 - accuracy: 0.9857 - val_loss: 0.1457 - val_accuracy: 0.9682\n",
      "Epoch 82/100\n",
      "130/130 [==============================] - 0s 2ms/step - loss: 0.0448 - accuracy: 0.9842 - val_loss: 0.1472 - val_accuracy: 0.9664\n",
      "Epoch 83/100\n",
      "130/130 [==============================] - 0s 2ms/step - loss: 0.0433 - accuracy: 0.9817 - val_loss: 0.1569 - val_accuracy: 0.9645\n",
      "Epoch 84/100\n",
      "130/130 [==============================] - 0s 2ms/step - loss: 0.0441 - accuracy: 0.9845 - val_loss: 0.1375 - val_accuracy: 0.9692\n",
      "Epoch 85/100\n",
      "130/130 [==============================] - 0s 1ms/step - loss: 0.0354 - accuracy: 0.9862 - val_loss: 0.1433 - val_accuracy: 0.9685\n",
      "Epoch 86/100\n",
      "130/130 [==============================] - 0s 1ms/step - loss: 0.0457 - accuracy: 0.9822 - val_loss: 0.1373 - val_accuracy: 0.9685\n",
      "Epoch 87/100\n",
      "130/130 [==============================] - 0s 2ms/step - loss: 0.0427 - accuracy: 0.9840 - val_loss: 0.1432 - val_accuracy: 0.9674\n",
      "Epoch 88/100\n",
      "130/130 [==============================] - 0s 2ms/step - loss: 0.0400 - accuracy: 0.9845 - val_loss: 0.1378 - val_accuracy: 0.9671\n",
      "Epoch 89/100\n",
      "130/130 [==============================] - 0s 2ms/step - loss: 0.0384 - accuracy: 0.9875 - val_loss: 0.1437 - val_accuracy: 0.9664\n",
      "Epoch 90/100\n",
      "130/130 [==============================] - 0s 2ms/step - loss: 0.0424 - accuracy: 0.9837 - val_loss: 0.1563 - val_accuracy: 0.9653\n",
      "Epoch 91/100\n",
      "130/130 [==============================] - 0s 2ms/step - loss: 0.0477 - accuracy: 0.9820 - val_loss: 0.1447 - val_accuracy: 0.9671\n",
      "Epoch 92/100\n",
      "130/130 [==============================] - 0s 2ms/step - loss: 0.0412 - accuracy: 0.9834 - val_loss: 0.1658 - val_accuracy: 0.9656\n",
      "Epoch 93/100\n",
      "130/130 [==============================] - 0s 2ms/step - loss: 0.0460 - accuracy: 0.9826 - val_loss: 0.1617 - val_accuracy: 0.9638\n",
      "Epoch 94/100\n",
      "130/130 [==============================] - 0s 2ms/step - loss: 0.0428 - accuracy: 0.9824 - val_loss: 0.1560 - val_accuracy: 0.9671\n",
      "Epoch 95/100\n",
      "130/130 [==============================] - 0s 2ms/step - loss: 0.0385 - accuracy: 0.9846 - val_loss: 0.1587 - val_accuracy: 0.9653\n",
      "Epoch 96/100\n",
      "130/130 [==============================] - 0s 2ms/step - loss: 0.0417 - accuracy: 0.9835 - val_loss: 0.1599 - val_accuracy: 0.9674\n",
      "Epoch 97/100\n",
      "130/130 [==============================] - 0s 2ms/step - loss: 0.0393 - accuracy: 0.9841 - val_loss: 0.1573 - val_accuracy: 0.9678\n",
      "Epoch 98/100\n",
      "130/130 [==============================] - 0s 2ms/step - loss: 0.0389 - accuracy: 0.9838 - val_loss: 0.1653 - val_accuracy: 0.9645\n",
      "Epoch 99/100\n",
      "130/130 [==============================] - 0s 2ms/step - loss: 0.0451 - accuracy: 0.9821 - val_loss: 0.1710 - val_accuracy: 0.9678\n",
      "Epoch 100/100\n",
      "130/130 [==============================] - 0s 2ms/step - loss: 0.0394 - accuracy: 0.9841 - val_loss: 0.1703 - val_accuracy: 0.9667\n"
     ]
    }
   ],
   "source": [
    "history = Regression_Model.fit(x_train,y_train, batch_size =64,epochs = 100,validation_data=(x_test, y_test))"
   ]
  },
  {
   "cell_type": "code",
   "execution_count": 34,
   "metadata": {},
   "outputs": [],
   "source": [
    "ypred2 = Regression_Model.predict(x_test)"
   ]
  },
  {
   "cell_type": "code",
   "execution_count": 35,
   "metadata": {},
   "outputs": [
    {
     "data": {
      "text/plain": [
       "array([0, 0, 0, ..., 0, 1, 0])"
      ]
     },
     "execution_count": 35,
     "metadata": {},
     "output_type": "execute_result"
    }
   ],
   "source": [
    "y_test"
   ]
  },
  {
   "cell_type": "code",
   "execution_count": 36,
   "metadata": {},
   "outputs": [
    {
     "data": {
      "text/plain": [
       "array([[0.],\n",
       "       [0.],\n",
       "       [1.],\n",
       "       ...,\n",
       "       [0.],\n",
       "       [1.],\n",
       "       [0.]], dtype=float16)"
      ]
     },
     "execution_count": 36,
     "metadata": {},
     "output_type": "execute_result"
    }
   ],
   "source": [
    "(ypred2>0.5).round()"
   ]
  },
  {
   "cell_type": "code",
   "execution_count": 37,
   "metadata": {},
   "outputs": [],
   "source": [
    "from sklearn.metrics import accuracy_score\n",
    "accuracy=accuracy_score(y_test,ypred2.round())"
   ]
  },
  {
   "cell_type": "code",
   "execution_count": 38,
   "metadata": {},
   "outputs": [
    {
     "data": {
      "text/plain": [
       "0.9667149059334298"
      ]
     },
     "execution_count": 38,
     "metadata": {},
     "output_type": "execute_result"
    }
   ],
   "source": [
    "accuracy"
   ]
  },
  {
   "cell_type": "code",
   "execution_count": 39,
   "metadata": {},
   "outputs": [
    {
     "data": {
      "text/plain": [
       "tensorflow.python.keras.engine.sequential.Sequential"
      ]
     },
     "execution_count": 39,
     "metadata": {},
     "output_type": "execute_result"
    }
   ],
   "source": [
    "type(Regression_Model)"
   ]
  },
  {
   "cell_type": "code",
   "execution_count": 40,
   "metadata": {},
   "outputs": [],
   "source": [
    "Regression_Model.save('Phishing_Website.h5')"
   ]
  },
  {
   "cell_type": "code",
   "execution_count": 41,
   "metadata": {},
   "outputs": [
    {
     "name": "stdout",
     "output_type": "stream",
     "text": [
      "Model: \"sequential\"\n",
      "_________________________________________________________________\n",
      "Layer (type)                 Output Shape              Param #   \n",
      "=================================================================\n",
      "dense (Dense)                (None, 30)                930       \n",
      "_________________________________________________________________\n",
      "dense_1 (Dense)              (None, 60)                1860      \n",
      "_________________________________________________________________\n",
      "dropout (Dropout)            (None, 60)                0         \n",
      "_________________________________________________________________\n",
      "dense_2 (Dense)              (None, 60)                3660      \n",
      "_________________________________________________________________\n",
      "dropout_1 (Dropout)          (None, 60)                0         \n",
      "_________________________________________________________________\n",
      "dense_3 (Dense)              (None, 1)                 61        \n",
      "=================================================================\n",
      "Total params: 6,511\n",
      "Trainable params: 6,511\n",
      "Non-trainable params: 0\n",
      "_________________________________________________________________\n"
     ]
    }
   ],
   "source": [
    "Regression_Model.summary()"
   ]
  },
  {
   "cell_type": "code",
   "execution_count": 44,
   "metadata": {},
   "outputs": [],
   "source": [
    "from tensorflow.keras.models import load_model\n",
    "model = load_model('Phishing_Website.h5')"
   ]
  },
  {
   "cell_type": "code",
   "execution_count": 62,
   "metadata": {},
   "outputs": [
    {
     "name": "stdout",
     "output_type": "stream",
     "text": [
      "Phishing_Website.h5\r\n"
     ]
    }
   ],
   "source": [
    "!tar -zcvf Phishing_Prediction.tgz Phishing_Website.h5"
   ]
  },
  {
   "cell_type": "code",
   "execution_count": 45,
   "metadata": {},
   "outputs": [],
   "source": [
    "pred=model.predict([[1, 1, 1, 1, 1, -1, 1, -1, -1, -1, -1, 1, -1, 0, 0, -1, -1, -1, 0, -1, -1, 1, -1, -1, -1, -1, 1, -1, -1, -1]])"
   ]
  },
  {
   "cell_type": "code",
   "execution_count": 46,
   "metadata": {},
   "outputs": [
    {
     "data": {
      "text/plain": [
       "array([0.], dtype=float16)"
      ]
     },
     "execution_count": 46,
     "metadata": {},
     "output_type": "execute_result"
    }
   ],
   "source": [
    "(pred[0]>0.5).round()\n",
    "    "
   ]
  },
  {
   "cell_type": "code",
   "execution_count": 47,
   "metadata": {},
   "outputs": [
    {
     "data": {
      "image/png": "[encoded data removed]",
      "text/plain": [
       "<Figure size 432x288 with 1 Axes>"
      ]
     },
     "metadata": {
      "needs_background": "light"
     },
     "output_type": "display_data"
    },
    {
     "data": {
      "image/png": "[encoded data removed]",
      "text/plain": [
       "<Figure size 432x288 with 1 Axes>"
      ]
     },
     "metadata": {
      "needs_background": "light"
     },
     "output_type": "display_data"
    }
   ],
   "source": [
    "import matplotlib.pyplot as plt\n",
    "plt.plot(history.history['accuracy'])\n",
    "plt.plot(history.history['val_accuracy'])\n",
    "plt.title('model accuracy')\n",
    "plt.ylabel('accuracy')\n",
    "plt.xlabel('epoch')\n",
    "plt.legend(['train', 'test'], loc='upper left')\n",
    "plt.show()\n",
    "# summarize history for loss\n",
    "plt.plot(history.history['loss'])\n",
    "plt.plot(history.history['val_loss'])\n",
    "plt.title('model loss')\n",
    "plt.ylabel('loss')\n",
    "plt.xlabel('epoch')\n",
    "plt.legend(['train', 'test'], loc='upper left')\n",
    "plt.show()"
   ]
  },
  {
   "cell_type": "code",
   "execution_count": 48,
   "metadata": {},
   "outputs": [
    {
     "name": "stdout",
     "output_type": "stream",
     "text": [
      "/opt/conda/envs/Python-3.7-OpenCE/lib/python3.7/site-packages/secretstorage/dhcrypto.py:16: CryptographyDeprecationWarning: int_from_bytes is deprecated, use int.from_bytes instead\n",
      "  from cryptography.utils import int_from_bytes\n",
      "/opt/conda/envs/Python-3.7-OpenCE/lib/python3.7/site-packages/secretstorage/util.py:25: CryptographyDeprecationWarning: int_from_bytes is deprecated, use int.from_bytes instead\n",
      "  from cryptography.utils import int_from_bytes\n",
      "Requirement already satisfied: ibm_watson_machine_learning in /opt/conda/envs/Python-3.7-OpenCE/lib/python3.7/site-packages (1.0.105)\n",
      "Requirement already satisfied: tabulate in /opt/conda/envs/Python-3.7-OpenCE/lib/python3.7/site-packages (from ibm_watson_machine_learning) (0.8.3)\n",
      "Requirement already satisfied: ibm-cos-sdk==2.7.* in /opt/conda/envs/Python-3.7-OpenCE/lib/python3.7/site-packages (from ibm_watson_machine_learning) (2.7.0)\n",
      "Requirement already satisfied: pandas<1.3.0,>=0.24.2 in /opt/conda/envs/Python-3.7-OpenCE/lib/python3.7/site-packages (from ibm_watson_machine_learning) (1.0.5)\n",
      "Requirement already satisfied: lomond in /opt/conda/envs/Python-3.7-OpenCE/lib/python3.7/site-packages (from ibm_watson_machine_learning) (0.3.3)\n",
      "Requirement already satisfied: packaging in /opt/conda/envs/Python-3.7-OpenCE/lib/python3.7/site-packages (from ibm_watson_machine_learning) (20.4)\n",
      "Requirement already satisfied: urllib3 in /opt/conda/envs/Python-3.7-OpenCE/lib/python3.7/site-packages (from ibm_watson_machine_learning) (1.25.9)\n",
      "Requirement already satisfied: requests in /opt/conda/envs/Python-3.7-OpenCE/lib/python3.7/site-packages (from ibm_watson_machine_learning) (2.22.0)\n",
      "Requirement already satisfied: certifi in /opt/conda/envs/Python-3.7-OpenCE/lib/python3.7/site-packages (from ibm_watson_machine_learning) (2021.5.30)\n",
      "Requirement already satisfied: jmespath<1.0.0,>=0.7.1 in /opt/conda/envs/Python-3.7-OpenCE/lib/python3.7/site-packages (from ibm-cos-sdk==2.7.*->ibm_watson_machine_learning) (0.9.4)\n",
      "Requirement already satisfied: ibm-cos-sdk-s3transfer==2.7.0 in /opt/conda/envs/Python-3.7-OpenCE/lib/python3.7/site-packages (from ibm-cos-sdk==2.7.*->ibm_watson_machine_learning) (2.7.0)\n",
      "Requirement already satisfied: ibm-cos-sdk-core==2.7.0 in /opt/conda/envs/Python-3.7-OpenCE/lib/python3.7/site-packages (from ibm-cos-sdk==2.7.*->ibm_watson_machine_learning) (2.7.0)\n",
      "Requirement already satisfied: pytz>=2017.2 in /opt/conda/envs/Python-3.7-OpenCE/lib/python3.7/site-packages (from pandas<1.3.0,>=0.24.2->ibm_watson_machine_learning) (2020.1)\n",
      "Requirement already satisfied: numpy>=1.13.3 in /opt/conda/envs/Python-3.7-OpenCE/lib/python3.7/site-packages (from pandas<1.3.0,>=0.24.2->ibm_watson_machine_learning) (1.19.2)\n",
      "Requirement already satisfied: python-dateutil>=2.6.1 in /opt/conda/envs/Python-3.7-OpenCE/lib/python3.7/site-packages (from pandas<1.3.0,>=0.24.2->ibm_watson_machine_learning) (2.8.1)\n",
      "Requirement already satisfied: six>=1.10.0 in /opt/conda/envs/Python-3.7-OpenCE/lib/python3.7/site-packages (from lomond->ibm_watson_machine_learning) (1.15.0)\n",
      "Requirement already satisfied: pyparsing>=2.0.2 in /opt/conda/envs/Python-3.7-OpenCE/lib/python3.7/site-packages (from packaging->ibm_watson_machine_learning) (2.4.7)\n",
      "Requirement already satisfied: chardet<3.1.0,>=3.0.2 in /opt/conda/envs/Python-3.7-OpenCE/lib/python3.7/site-packages (from requests->ibm_watson_machine_learning) (3.0.4)\n",
      "Requirement already satisfied: idna<2.9,>=2.5 in /opt/conda/envs/Python-3.7-OpenCE/lib/python3.7/site-packages (from requests->ibm_watson_machine_learning) (2.8)\n",
      "Requirement already satisfied: docutils<0.16,>=0.10 in /opt/conda/envs/Python-3.7-OpenCE/lib/python3.7/site-packages (from ibm-cos-sdk-core==2.7.0->ibm-cos-sdk==2.7.*->ibm_watson_machine_learning) (0.15.2)\n"
     ]
    }
   ],
   "source": [
    "!pip install ibm_watson_machine_learning"
   ]
  },
  {
   "cell_type": "code",
   "execution_count": 50,
   "metadata": {},
   "outputs": [],
   "source": [
    "from ibm_watson_machine_learning import APIClient\n",
    "wml_credentials = {\n",
    "    \"url\": \"https://us-south.ml.cloud.ibm.com\",\n",
    "    \"apikey\":\"K_rhaG1iU6KkPH07vOYZ-ZaoFZvMIPcYyK0PZj0leV9J\"\n",
    "}\n",
    "client=APIClient(wml_credentials)"
   ]
  },
  {
   "cell_type": "code",
   "execution_count": 53,
   "metadata": {},
   "outputs": [],
   "source": [
    "def guid_from_space_name(client, space_name):\n",
    "    space = client.spaces.get_details()\n",
    "    #print(space)\n",
    "    return(next(item for item in space['resources'] if item['entity'][\"name\"] == space_name)['metadata']['id'])"
   ]
  },
  {
   "cell_type": "code",
   "execution_count": 54,
   "metadata": {},
   "outputs": [
    {
     "name": "stdout",
     "output_type": "stream",
     "text": [
      "Space UID = 09796913-b2f7-44fe-a0a6-bfd598f77cf6\n"
     ]
    }
   ],
   "source": [
    "space_uid= guid_from_space_name(client, 'models')\n",
    "print(\"Space UID = \"+ space_uid)"
   ]
  },
  {
   "cell_type": "code",
   "execution_count": 55,
   "metadata": {},
   "outputs": [
    {
     "data": {
      "text/plain": [
       "'SUCCESS'"
      ]
     },
     "execution_count": 55,
     "metadata": {},
     "output_type": "execute_result"
    }
   ],
   "source": [
    " client.set.default_space(space_uid)"
   ]
  },
  {
   "cell_type": "code",
   "execution_count": 57,
   "metadata": {},
   "outputs": [
    {
     "name": "stdout",
     "output_type": "stream",
     "text": [
      "-----------------------------  ------------------------------------  ----\n",
      "NAME                           ASSET_ID                              TYPE\n",
      "default_py3.6                  0062b8c9-8b7d-44a0-a9b9-46c416adcbd9  base\n",
      "pytorch-onnx_1.3-py3.7-edt     069ea134-3346-5748-b513-49120e15d288  base\n",
      "scikit-learn_0.20-py3.6        09c5a1d0-9c1e-4473-a344-eb7b665ff687  base\n",
      "spark-mllib_3.0-scala_2.12     09f4cff0-90a7-5899-b9ed-1ef348aebdee  base\n",
      "ai-function_0.1-py3.6          0cdb0f1e-5376-4f4d-92dd-da3b69aa9bda  base\n",
      "shiny-r3.6                     0e6e79df-875e-4f24-8ae9-62dcc2148306  base\n",
      "tensorflow_2.4-py3.7-horovod   1092590a-307d-563d-9b62-4eb7d64b3f22  base\n",
      "pytorch_1.1-py3.6              10ac12d6-6b30-4ccd-8392-3e922c096a92  base\n",
      "tensorflow_1.15-py3.6-ddl      111e41b3-de2d-5422-a4d6-bf776828c4b7  base\n",
      "scikit-learn_0.22-py3.6        154010fa-5b3b-4ac1-82af-4d5ee5abbc85  base\n",
      "default_r3.6                   1b70aec3-ab34-4b87-8aa0-a4a3c8296a36  base\n",
      "pytorch-onnx_1.3-py3.6         1bc6029a-cc97-56da-b8e0-39c3880dbbe7  base\n",
      "tensorflow_2.1-py3.6           1eb25b84-d6ed-5dde-b6a5-3fbdf1665666  base\n",
      "tensorflow_2.4-py3.8-horovod   217c16f6-178f-56bf-824a-b19f20564c49  base\n",
      "autoai-ts_3.8-py3.8            2aa0c932-798f-5ae9-abd6-15e0c2402fb5  base\n",
      "tensorflow_1.15-py3.6          2b73a275-7cbf-420b-a912-eae7f436e0bc  base\n",
      "pytorch_1.2-py3.6              2c8ef57d-2687-4b7d-acce-01f94976dac1  base\n",
      "spark-mllib_2.3                2e51f700-bca0-4b0d-88dc-5c6791338875  base\n",
      "pytorch-onnx_1.1-py3.6-edt     32983cea-3f32-4400-8965-dde874a8d67e  base\n",
      "spark-mllib_3.0-py37           36507ebe-8770-55ba-ab2a-eafe787600e9  base\n",
      "spark-mllib_2.4                390d21f8-e58b-4fac-9c55-d7ceda621326  base\n",
      "xgboost_0.82-py3.6             39e31acd-5f30-41dc-ae44-60233c80306e  base\n",
      "pytorch-onnx_1.2-py3.6-edt     40589d0e-7019-4e28-8daa-fb03b6f4fe12  base\n",
      "autoai-obm_3.0                 42b92e18-d9ab-567f-988a-4240ba1ed5f7  base\n",
      "spark-mllib_2.4-r_3.6          49403dff-92e9-4c87-a3d7-a42d0021c095  base\n",
      "xgboost_0.90-py3.6             4ff8d6c2-1343-4c18-85e1-689c965304d3  base\n",
      "pytorch-onnx_1.1-py3.6         50f95b2a-bc16-43bb-bc94-b0bed208c60b  base\n",
      "spark-mllib_2.4-scala_2.11     55a70f99-7320-4be5-9fb9-9edb5a443af5  base\n",
      "autoai-obm_2.0                 5c2e37fa-80b8-5e77-840f-d912469614ee  base\n",
      "spss-modeler_18.1              5c3cad7e-507f-4b2a-a9a3-ab53a21dee8b  base\n",
      "autoai-kb_3.1-py3.7            632d4b22-10aa-5180-88f0-f52dfb6444d7  base\n",
      "pytorch-onnx_1.7-py3.8         634d3cdc-b562-5bf9-a2d4-ea90a478456b  base\n",
      "spark-mllib_2.3-r_3.6          6586b9e3-ccd6-4f92-900f-0f8cb2bd6f0c  base\n",
      "tensorflow_2.4-py3.7           65e171d7-72d1-55d9-8ebb-f813d620c9bb  base\n",
      "spss-modeler_18.2              687eddc9-028a-4117-b9dd-e57b36f1efa5  base\n",
      "pytorch-onnx_1.2-py3.6         692a6a4d-2c4d-45ff-a1ed-b167ee55469a  base\n",
      "do_12.9                        75a3a4b0-6aa0-41b3-a618-48b1f56332a6  base\n",
      "spark-mllib_2.3-scala_2.11     7963efe5-bbec-417e-92cf-0574e21b4e8d  base\n",
      "spark-mllib_2.4-py37           7abc992b-b685-532b-a122-a396a3cdbaab  base\n",
      "caffe_1.0-py3.6                7bb3dbe2-da6e-4145-918d-b6d84aa93b6b  base\n",
      "pytorch-onnx_1.7-py3.7         812c6631-42b7-5613-982b-02098e6c909c  base\n",
      "cuda-py3.6                     82c79ece-4d12-40e6-8787-a7b9e0f62770  base\n",
      "tensorflow_1.15-py3.6-horovod  8964680e-d5e4-5bb8-919b-8342c6c0dfd8  base\n",
      "hybrid_0.1                     8c1a58c6-62b5-4dc4-987a-df751c2756b6  base\n",
      "pytorch-onnx_1.3-py3.7         8d5d8a87-a912-54cf-81ec-3914adaa988d  base\n",
      "caffe-ibm_1.0-py3.6            8d863266-7927-4d1e-97d7-56a7f4c0a19b  base\n",
      "spss-modeler_17.1              902d0051-84bd-4af6-ab6b-8f6aa6fdeabb  base\n",
      "do_12.10                       9100fd72-8159-4eb9-8a0b-a87e12eefa36  base\n",
      "do_py3.7                       9447fa8b-2051-4d24-9eef-5acb0e3c59f8  base\n",
      "spark-mllib_3.0-r_3.6          94bb6052-c837-589d-83f1-f4142f219e32  base\n",
      "-----------------------------  ------------------------------------  ----\n",
      "Note: Only first 50 records were displayed. To display more use 'limit' parameter.\n"
     ]
    }
   ],
   "source": [
    "client.software_specifications.list()"
   ]
  },
  {
   "cell_type": "code",
   "execution_count": 109,
   "metadata": {},
   "outputs": [
    {
     "data": {
      "text/plain": [
       "'c2057dd4-f42c-5f77-a02f-72bdbd3282c9'"
      ]
     },
     "execution_count": 109,
     "metadata": {},
     "output_type": "execute_result"
    }
   ],
   "source": [
    "software_spec_uid = client.software_specifications.get_uid_by_name(\"default_py3.7_opence\")\n",
    "software_spec_uid   "
   ]
  },
  {
   "cell_type": "code",
   "execution_count": 110,
   "metadata": {},
   "outputs": [],
   "source": [
    "model_details = client.repository.store_model(model='Phishing_Prediction.tgz', meta_props={\n",
    "    client.repository.ModelMetaNames.NAME:\"ANN\",\n",
    "    client.repository.ModelMetaNames.TYPE:\"tensorflow_2.4\",\n",
    "    client.repository.ModelMetaNames.SOFTWARE_SPEC_UID: software_spec_uid\n",
    "})\n",
    "\n",
    "model_id = client.repository.get_model_uid(model_details)"
   ]
  },
  {
   "cell_type": "code",
   "execution_count": 111,
   "metadata": {},
   "outputs": [
    {
     "data": {
      "text/plain": [
       "'eb572452-4bc2-4414-80ff-04b4017468a0'"
      ]
     },
     "execution_count": 111,
     "metadata": {},
     "output_type": "execute_result"
    }
   ],
   "source": [
    "model_id"
   ]
  },
  {
   "cell_type": "code",
   "execution_count": 113,
   "metadata": {},
   "outputs": [
    {
     "name": "stdout",
     "output_type": "stream",
     "text": [
      "Successfully saved model content to file: 'Phishing_Prediction.tar.gz'\n"
     ]
    },
    {
     "data": {
      "text/plain": [
       "'/home/wsuser/work/Phishing_Prediction.tar.gz'"
      ]
     },
     "execution_count": 113,
     "metadata": {},
     "output_type": "execute_result"
    }
   ],
   "source": [
    "client.repository.download(model_id,'Phishing_Prediction.tar.gz')"
   ]
  },
  {
   "cell_type": "code",
   "execution_count": null,
   "metadata": {},
   "outputs": [],
   "source": []
  }
 ],
 "metadata": {
  "kernelspec": {
   "display_name": "Python 3.7",
   "language": "python",
   "name": "python3"
  },
  "language_info": {
   "codemirror_mode": {
    "name": "ipython",
    "version": 3
   },
   "file_extension": ".py",
   "mimetype": "text/x-python",
   "name": "python",
   "nbconvert_exporter": "python",
   "pygments_lexer": "ipython3",
   "version": "3.7.10"
  }
 },
 "nbformat": 4,
 "nbformat_minor": 2
}
