{
 "cells": [
  {
   "cell_type": "code",
   "execution_count": 2,
   "metadata": {},
   "outputs": [],
   "source": [
    "import numpy as np\n",
    "import pandas as pd"
   ]
  },
  {
   "cell_type": "code",
   "execution_count": 7,
   "metadata": {},
   "outputs": [
    {
     "data": {
      "text/plain": [
       "'/Users/karanrochlani/Documents/GitHub/PhishingDetectionDL'"
      ]
     },
     "execution_count": 7,
     "metadata": {},
     "output_type": "execute_result"
    }
   ],
   "source": [
    "import os\n",
    "cwd=os.getcwd()\n",
    "cwd"
   ]
  },
  {
   "cell_type": "code",
   "execution_count": 14,
   "metadata": {},
   "outputs": [
    {
     "data": {
      "text/html": [
       "<div>\n",
       "<style scoped>\n",
       "    .dataframe tbody tr th:only-of-type {\n",
       "        vertical-align: middle;\n",
       "    }\n",
       "\n",
       "    .dataframe tbody tr th {\n",
       "        vertical-align: top;\n",
       "    }\n",
       "\n",
       "    .dataframe thead th {\n",
       "        text-align: right;\n",
       "    }\n",
       "</style>\n",
       "<table border=\"1\" class=\"dataframe\">\n",
       "  <thead>\n",
       "    <tr style=\"text-align: right;\">\n",
       "      <th></th>\n",
       "      <th>index</th>\n",
       "      <th>having_IPhaving_IP_Address</th>\n",
       "      <th>URLURL_Length</th>\n",
       "      <th>Shortining_Service</th>\n",
       "      <th>having_At_Symbol</th>\n",
       "      <th>double_slash_redirecting</th>\n",
       "      <th>Prefix_Suffix</th>\n",
       "      <th>having_Sub_Domain</th>\n",
       "      <th>SSLfinal_State</th>\n",
       "      <th>Domain_registeration_length</th>\n",
       "      <th>...</th>\n",
       "      <th>popUpWidnow</th>\n",
       "      <th>Iframe</th>\n",
       "      <th>age_of_domain</th>\n",
       "      <th>DNSRecord</th>\n",
       "      <th>web_traffic</th>\n",
       "      <th>Page_Rank</th>\n",
       "      <th>Google_Index</th>\n",
       "      <th>Links_pointing_to_page</th>\n",
       "      <th>Statistical_report</th>\n",
       "      <th>Result</th>\n",
       "    </tr>\n",
       "  </thead>\n",
       "  <tbody>\n",
       "    <tr>\n",
       "      <th>0</th>\n",
       "      <td>1</td>\n",
       "      <td>-1</td>\n",
       "      <td>1</td>\n",
       "      <td>1</td>\n",
       "      <td>1</td>\n",
       "      <td>-1</td>\n",
       "      <td>-1</td>\n",
       "      <td>-1</td>\n",
       "      <td>-1</td>\n",
       "      <td>-1</td>\n",
       "      <td>...</td>\n",
       "      <td>1</td>\n",
       "      <td>1</td>\n",
       "      <td>-1</td>\n",
       "      <td>-1</td>\n",
       "      <td>-1</td>\n",
       "      <td>-1</td>\n",
       "      <td>1</td>\n",
       "      <td>1</td>\n",
       "      <td>-1</td>\n",
       "      <td>-1</td>\n",
       "    </tr>\n",
       "    <tr>\n",
       "      <th>1</th>\n",
       "      <td>2</td>\n",
       "      <td>1</td>\n",
       "      <td>1</td>\n",
       "      <td>1</td>\n",
       "      <td>1</td>\n",
       "      <td>1</td>\n",
       "      <td>-1</td>\n",
       "      <td>0</td>\n",
       "      <td>1</td>\n",
       "      <td>-1</td>\n",
       "      <td>...</td>\n",
       "      <td>1</td>\n",
       "      <td>1</td>\n",
       "      <td>-1</td>\n",
       "      <td>-1</td>\n",
       "      <td>0</td>\n",
       "      <td>-1</td>\n",
       "      <td>1</td>\n",
       "      <td>1</td>\n",
       "      <td>1</td>\n",
       "      <td>-1</td>\n",
       "    </tr>\n",
       "    <tr>\n",
       "      <th>2</th>\n",
       "      <td>3</td>\n",
       "      <td>1</td>\n",
       "      <td>0</td>\n",
       "      <td>1</td>\n",
       "      <td>1</td>\n",
       "      <td>1</td>\n",
       "      <td>-1</td>\n",
       "      <td>-1</td>\n",
       "      <td>-1</td>\n",
       "      <td>-1</td>\n",
       "      <td>...</td>\n",
       "      <td>1</td>\n",
       "      <td>1</td>\n",
       "      <td>1</td>\n",
       "      <td>-1</td>\n",
       "      <td>1</td>\n",
       "      <td>-1</td>\n",
       "      <td>1</td>\n",
       "      <td>0</td>\n",
       "      <td>-1</td>\n",
       "      <td>-1</td>\n",
       "    </tr>\n",
       "    <tr>\n",
       "      <th>3</th>\n",
       "      <td>4</td>\n",
       "      <td>1</td>\n",
       "      <td>0</td>\n",
       "      <td>1</td>\n",
       "      <td>1</td>\n",
       "      <td>1</td>\n",
       "      <td>-1</td>\n",
       "      <td>-1</td>\n",
       "      <td>-1</td>\n",
       "      <td>1</td>\n",
       "      <td>...</td>\n",
       "      <td>1</td>\n",
       "      <td>1</td>\n",
       "      <td>-1</td>\n",
       "      <td>-1</td>\n",
       "      <td>1</td>\n",
       "      <td>-1</td>\n",
       "      <td>1</td>\n",
       "      <td>-1</td>\n",
       "      <td>1</td>\n",
       "      <td>-1</td>\n",
       "    </tr>\n",
       "    <tr>\n",
       "      <th>4</th>\n",
       "      <td>5</td>\n",
       "      <td>1</td>\n",
       "      <td>0</td>\n",
       "      <td>-1</td>\n",
       "      <td>1</td>\n",
       "      <td>1</td>\n",
       "      <td>-1</td>\n",
       "      <td>1</td>\n",
       "      <td>1</td>\n",
       "      <td>-1</td>\n",
       "      <td>...</td>\n",
       "      <td>-1</td>\n",
       "      <td>1</td>\n",
       "      <td>-1</td>\n",
       "      <td>-1</td>\n",
       "      <td>0</td>\n",
       "      <td>-1</td>\n",
       "      <td>1</td>\n",
       "      <td>1</td>\n",
       "      <td>1</td>\n",
       "      <td>1</td>\n",
       "    </tr>\n",
       "    <tr>\n",
       "      <th>...</th>\n",
       "      <td>...</td>\n",
       "      <td>...</td>\n",
       "      <td>...</td>\n",
       "      <td>...</td>\n",
       "      <td>...</td>\n",
       "      <td>...</td>\n",
       "      <td>...</td>\n",
       "      <td>...</td>\n",
       "      <td>...</td>\n",
       "      <td>...</td>\n",
       "      <td>...</td>\n",
       "      <td>...</td>\n",
       "      <td>...</td>\n",
       "      <td>...</td>\n",
       "      <td>...</td>\n",
       "      <td>...</td>\n",
       "      <td>...</td>\n",
       "      <td>...</td>\n",
       "      <td>...</td>\n",
       "      <td>...</td>\n",
       "      <td>...</td>\n",
       "    </tr>\n",
       "    <tr>\n",
       "      <th>11050</th>\n",
       "      <td>11051</td>\n",
       "      <td>1</td>\n",
       "      <td>-1</td>\n",
       "      <td>1</td>\n",
       "      <td>-1</td>\n",
       "      <td>1</td>\n",
       "      <td>1</td>\n",
       "      <td>1</td>\n",
       "      <td>1</td>\n",
       "      <td>-1</td>\n",
       "      <td>...</td>\n",
       "      <td>-1</td>\n",
       "      <td>-1</td>\n",
       "      <td>1</td>\n",
       "      <td>1</td>\n",
       "      <td>-1</td>\n",
       "      <td>-1</td>\n",
       "      <td>1</td>\n",
       "      <td>1</td>\n",
       "      <td>1</td>\n",
       "      <td>1</td>\n",
       "    </tr>\n",
       "    <tr>\n",
       "      <th>11051</th>\n",
       "      <td>11052</td>\n",
       "      <td>-1</td>\n",
       "      <td>1</td>\n",
       "      <td>1</td>\n",
       "      <td>-1</td>\n",
       "      <td>-1</td>\n",
       "      <td>-1</td>\n",
       "      <td>1</td>\n",
       "      <td>-1</td>\n",
       "      <td>-1</td>\n",
       "      <td>...</td>\n",
       "      <td>-1</td>\n",
       "      <td>1</td>\n",
       "      <td>1</td>\n",
       "      <td>1</td>\n",
       "      <td>1</td>\n",
       "      <td>1</td>\n",
       "      <td>1</td>\n",
       "      <td>-1</td>\n",
       "      <td>1</td>\n",
       "      <td>-1</td>\n",
       "    </tr>\n",
       "    <tr>\n",
       "      <th>11052</th>\n",
       "      <td>11053</td>\n",
       "      <td>1</td>\n",
       "      <td>-1</td>\n",
       "      <td>1</td>\n",
       "      <td>1</td>\n",
       "      <td>1</td>\n",
       "      <td>-1</td>\n",
       "      <td>1</td>\n",
       "      <td>-1</td>\n",
       "      <td>-1</td>\n",
       "      <td>...</td>\n",
       "      <td>1</td>\n",
       "      <td>1</td>\n",
       "      <td>1</td>\n",
       "      <td>1</td>\n",
       "      <td>1</td>\n",
       "      <td>-1</td>\n",
       "      <td>1</td>\n",
       "      <td>0</td>\n",
       "      <td>1</td>\n",
       "      <td>-1</td>\n",
       "    </tr>\n",
       "    <tr>\n",
       "      <th>11053</th>\n",
       "      <td>11054</td>\n",
       "      <td>-1</td>\n",
       "      <td>-1</td>\n",
       "      <td>1</td>\n",
       "      <td>1</td>\n",
       "      <td>1</td>\n",
       "      <td>-1</td>\n",
       "      <td>-1</td>\n",
       "      <td>-1</td>\n",
       "      <td>1</td>\n",
       "      <td>...</td>\n",
       "      <td>-1</td>\n",
       "      <td>1</td>\n",
       "      <td>1</td>\n",
       "      <td>1</td>\n",
       "      <td>1</td>\n",
       "      <td>-1</td>\n",
       "      <td>1</td>\n",
       "      <td>1</td>\n",
       "      <td>1</td>\n",
       "      <td>-1</td>\n",
       "    </tr>\n",
       "    <tr>\n",
       "      <th>11054</th>\n",
       "      <td>11055</td>\n",
       "      <td>-1</td>\n",
       "      <td>-1</td>\n",
       "      <td>1</td>\n",
       "      <td>1</td>\n",
       "      <td>1</td>\n",
       "      <td>-1</td>\n",
       "      <td>-1</td>\n",
       "      <td>-1</td>\n",
       "      <td>1</td>\n",
       "      <td>...</td>\n",
       "      <td>1</td>\n",
       "      <td>1</td>\n",
       "      <td>-1</td>\n",
       "      <td>1</td>\n",
       "      <td>-1</td>\n",
       "      <td>-1</td>\n",
       "      <td>-1</td>\n",
       "      <td>1</td>\n",
       "      <td>-1</td>\n",
       "      <td>-1</td>\n",
       "    </tr>\n",
       "  </tbody>\n",
       "</table>\n",
       "<p>11055 rows × 32 columns</p>\n",
       "</div>"
      ],
      "text/plain": [
       "       index  having_IPhaving_IP_Address  URLURL_Length  Shortining_Service  \\\n",
       "0          1                          -1              1                   1   \n",
       "1          2                           1              1                   1   \n",
       "2          3                           1              0                   1   \n",
       "3          4                           1              0                   1   \n",
       "4          5                           1              0                  -1   \n",
       "...      ...                         ...            ...                 ...   \n",
       "11050  11051                           1             -1                   1   \n",
       "11051  11052                          -1              1                   1   \n",
       "11052  11053                           1             -1                   1   \n",
       "11053  11054                          -1             -1                   1   \n",
       "11054  11055                          -1             -1                   1   \n",
       "\n",
       "       having_At_Symbol  double_slash_redirecting  Prefix_Suffix  \\\n",
       "0                     1                        -1             -1   \n",
       "1                     1                         1             -1   \n",
       "2                     1                         1             -1   \n",
       "3                     1                         1             -1   \n",
       "4                     1                         1             -1   \n",
       "...                 ...                       ...            ...   \n",
       "11050                -1                         1              1   \n",
       "11051                -1                        -1             -1   \n",
       "11052                 1                         1             -1   \n",
       "11053                 1                         1             -1   \n",
       "11054                 1                         1             -1   \n",
       "\n",
       "       having_Sub_Domain  SSLfinal_State  Domain_registeration_length  ...  \\\n",
       "0                     -1              -1                           -1  ...   \n",
       "1                      0               1                           -1  ...   \n",
       "2                     -1              -1                           -1  ...   \n",
       "3                     -1              -1                            1  ...   \n",
       "4                      1               1                           -1  ...   \n",
       "...                  ...             ...                          ...  ...   \n",
       "11050                  1               1                           -1  ...   \n",
       "11051                  1              -1                           -1  ...   \n",
       "11052                  1              -1                           -1  ...   \n",
       "11053                 -1              -1                            1  ...   \n",
       "11054                 -1              -1                            1  ...   \n",
       "\n",
       "       popUpWidnow  Iframe  age_of_domain  DNSRecord  web_traffic  Page_Rank  \\\n",
       "0                1       1             -1         -1           -1         -1   \n",
       "1                1       1             -1         -1            0         -1   \n",
       "2                1       1              1         -1            1         -1   \n",
       "3                1       1             -1         -1            1         -1   \n",
       "4               -1       1             -1         -1            0         -1   \n",
       "...            ...     ...            ...        ...          ...        ...   \n",
       "11050           -1      -1              1          1           -1         -1   \n",
       "11051           -1       1              1          1            1          1   \n",
       "11052            1       1              1          1            1         -1   \n",
       "11053           -1       1              1          1            1         -1   \n",
       "11054            1       1             -1          1           -1         -1   \n",
       "\n",
       "       Google_Index  Links_pointing_to_page  Statistical_report  Result  \n",
       "0                 1                       1                  -1      -1  \n",
       "1                 1                       1                   1      -1  \n",
       "2                 1                       0                  -1      -1  \n",
       "3                 1                      -1                   1      -1  \n",
       "4                 1                       1                   1       1  \n",
       "...             ...                     ...                 ...     ...  \n",
       "11050             1                       1                   1       1  \n",
       "11051             1                      -1                   1      -1  \n",
       "11052             1                       0                   1      -1  \n",
       "11053             1                       1                   1      -1  \n",
       "11054            -1                       1                  -1      -1  \n",
       "\n",
       "[11055 rows x 32 columns]"
      ]
     },
     "execution_count": 14,
     "metadata": {},
     "output_type": "execute_result"
    }
   ],
   "source": [
    "er=cwd+\"/dataset_website.csv\"\n",
    "df = pd.read_csv(er)\n",
    "df"
   ]
  },
  {
   "cell_type": "code",
   "execution_count": 35,
   "metadata": {},
   "outputs": [
    {
     "data": {
      "text/plain": [
       "index                          0\n",
       "having_IPhaving_IP_Address     0\n",
       "URLURL_Length                  0\n",
       "Shortining_Service             0\n",
       "having_At_Symbol               0\n",
       "double_slash_redirecting       0\n",
       "Prefix_Suffix                  0\n",
       "having_Sub_Domain              0\n",
       "SSLfinal_State                 0\n",
       "Domain_registeration_length    0\n",
       "Favicon                        0\n",
       "port                           0\n",
       "HTTPS_token                    0\n",
       "Request_URL                    0\n",
       "URL_of_Anchor                  0\n",
       "Links_in_tags                  0\n",
       "SFH                            0\n",
       "Submitting_to_email            0\n",
       "Abnormal_URL                   0\n",
       "Redirect                       0\n",
       "on_mouseover                   0\n",
       "RightClick                     0\n",
       "popUpWidnow                    0\n",
       "Iframe                         0\n",
       "age_of_domain                  0\n",
       "DNSRecord                      0\n",
       "web_traffic                    0\n",
       "Page_Rank                      0\n",
       "Google_Index                   0\n",
       "Links_pointing_to_page         0\n",
       "Statistical_report             0\n",
       "Result                         0\n",
       "dtype: int64"
      ]
     },
     "execution_count": 35,
     "metadata": {},
     "output_type": "execute_result"
    }
   ],
   "source": [
    "df.isnull().sum()"
   ]
  },
  {
   "cell_type": "code",
   "execution_count": 36,
   "metadata": {},
   "outputs": [
    {
     "data": {
      "text/plain": [
       "(11055, 32)"
      ]
     },
     "execution_count": 36,
     "metadata": {},
     "output_type": "execute_result"
    }
   ],
   "source": [
    "df.shape"
   ]
  },
  {
   "cell_type": "code",
   "execution_count": 37,
   "metadata": {},
   "outputs": [
    {
     "data": {
      "text/html": [
       "<div>\n",
       "<style scoped>\n",
       "    .dataframe tbody tr th:only-of-type {\n",
       "        vertical-align: middle;\n",
       "    }\n",
       "\n",
       "    .dataframe tbody tr th {\n",
       "        vertical-align: top;\n",
       "    }\n",
       "\n",
       "    .dataframe thead th {\n",
       "        text-align: right;\n",
       "    }\n",
       "</style>\n",
       "<table border=\"1\" class=\"dataframe\">\n",
       "  <thead>\n",
       "    <tr style=\"text-align: right;\">\n",
       "      <th></th>\n",
       "      <th>index</th>\n",
       "      <th>having_IPhaving_IP_Address</th>\n",
       "      <th>URLURL_Length</th>\n",
       "      <th>Shortining_Service</th>\n",
       "      <th>having_At_Symbol</th>\n",
       "      <th>double_slash_redirecting</th>\n",
       "      <th>Prefix_Suffix</th>\n",
       "      <th>having_Sub_Domain</th>\n",
       "      <th>SSLfinal_State</th>\n",
       "      <th>Domain_registeration_length</th>\n",
       "      <th>...</th>\n",
       "      <th>popUpWidnow</th>\n",
       "      <th>Iframe</th>\n",
       "      <th>age_of_domain</th>\n",
       "      <th>DNSRecord</th>\n",
       "      <th>web_traffic</th>\n",
       "      <th>Page_Rank</th>\n",
       "      <th>Google_Index</th>\n",
       "      <th>Links_pointing_to_page</th>\n",
       "      <th>Statistical_report</th>\n",
       "      <th>Result</th>\n",
       "    </tr>\n",
       "  </thead>\n",
       "  <tbody>\n",
       "    <tr>\n",
       "      <th>0</th>\n",
       "      <td>1</td>\n",
       "      <td>-1</td>\n",
       "      <td>1</td>\n",
       "      <td>1</td>\n",
       "      <td>1</td>\n",
       "      <td>-1</td>\n",
       "      <td>-1</td>\n",
       "      <td>-1</td>\n",
       "      <td>-1</td>\n",
       "      <td>-1</td>\n",
       "      <td>...</td>\n",
       "      <td>1</td>\n",
       "      <td>1</td>\n",
       "      <td>-1</td>\n",
       "      <td>-1</td>\n",
       "      <td>-1</td>\n",
       "      <td>-1</td>\n",
       "      <td>1</td>\n",
       "      <td>1</td>\n",
       "      <td>-1</td>\n",
       "      <td>-1</td>\n",
       "    </tr>\n",
       "    <tr>\n",
       "      <th>1</th>\n",
       "      <td>2</td>\n",
       "      <td>1</td>\n",
       "      <td>1</td>\n",
       "      <td>1</td>\n",
       "      <td>1</td>\n",
       "      <td>1</td>\n",
       "      <td>-1</td>\n",
       "      <td>0</td>\n",
       "      <td>1</td>\n",
       "      <td>-1</td>\n",
       "      <td>...</td>\n",
       "      <td>1</td>\n",
       "      <td>1</td>\n",
       "      <td>-1</td>\n",
       "      <td>-1</td>\n",
       "      <td>0</td>\n",
       "      <td>-1</td>\n",
       "      <td>1</td>\n",
       "      <td>1</td>\n",
       "      <td>1</td>\n",
       "      <td>-1</td>\n",
       "    </tr>\n",
       "    <tr>\n",
       "      <th>2</th>\n",
       "      <td>3</td>\n",
       "      <td>1</td>\n",
       "      <td>0</td>\n",
       "      <td>1</td>\n",
       "      <td>1</td>\n",
       "      <td>1</td>\n",
       "      <td>-1</td>\n",
       "      <td>-1</td>\n",
       "      <td>-1</td>\n",
       "      <td>-1</td>\n",
       "      <td>...</td>\n",
       "      <td>1</td>\n",
       "      <td>1</td>\n",
       "      <td>1</td>\n",
       "      <td>-1</td>\n",
       "      <td>1</td>\n",
       "      <td>-1</td>\n",
       "      <td>1</td>\n",
       "      <td>0</td>\n",
       "      <td>-1</td>\n",
       "      <td>-1</td>\n",
       "    </tr>\n",
       "    <tr>\n",
       "      <th>3</th>\n",
       "      <td>4</td>\n",
       "      <td>1</td>\n",
       "      <td>0</td>\n",
       "      <td>1</td>\n",
       "      <td>1</td>\n",
       "      <td>1</td>\n",
       "      <td>-1</td>\n",
       "      <td>-1</td>\n",
       "      <td>-1</td>\n",
       "      <td>1</td>\n",
       "      <td>...</td>\n",
       "      <td>1</td>\n",
       "      <td>1</td>\n",
       "      <td>-1</td>\n",
       "      <td>-1</td>\n",
       "      <td>1</td>\n",
       "      <td>-1</td>\n",
       "      <td>1</td>\n",
       "      <td>-1</td>\n",
       "      <td>1</td>\n",
       "      <td>-1</td>\n",
       "    </tr>\n",
       "    <tr>\n",
       "      <th>4</th>\n",
       "      <td>5</td>\n",
       "      <td>1</td>\n",
       "      <td>0</td>\n",
       "      <td>-1</td>\n",
       "      <td>1</td>\n",
       "      <td>1</td>\n",
       "      <td>-1</td>\n",
       "      <td>1</td>\n",
       "      <td>1</td>\n",
       "      <td>-1</td>\n",
       "      <td>...</td>\n",
       "      <td>-1</td>\n",
       "      <td>1</td>\n",
       "      <td>-1</td>\n",
       "      <td>-1</td>\n",
       "      <td>0</td>\n",
       "      <td>-1</td>\n",
       "      <td>1</td>\n",
       "      <td>1</td>\n",
       "      <td>1</td>\n",
       "      <td>1</td>\n",
       "    </tr>\n",
       "  </tbody>\n",
       "</table>\n",
       "<p>5 rows × 32 columns</p>\n",
       "</div>"
      ],
      "text/plain": [
       "   index  having_IPhaving_IP_Address  URLURL_Length  Shortining_Service  \\\n",
       "0      1                          -1              1                   1   \n",
       "1      2                           1              1                   1   \n",
       "2      3                           1              0                   1   \n",
       "3      4                           1              0                   1   \n",
       "4      5                           1              0                  -1   \n",
       "\n",
       "   having_At_Symbol  double_slash_redirecting  Prefix_Suffix  \\\n",
       "0                 1                        -1             -1   \n",
       "1                 1                         1             -1   \n",
       "2                 1                         1             -1   \n",
       "3                 1                         1             -1   \n",
       "4                 1                         1             -1   \n",
       "\n",
       "   having_Sub_Domain  SSLfinal_State  Domain_registeration_length  ...  \\\n",
       "0                 -1              -1                           -1  ...   \n",
       "1                  0               1                           -1  ...   \n",
       "2                 -1              -1                           -1  ...   \n",
       "3                 -1              -1                            1  ...   \n",
       "4                  1               1                           -1  ...   \n",
       "\n",
       "   popUpWidnow  Iframe  age_of_domain  DNSRecord  web_traffic  Page_Rank  \\\n",
       "0            1       1             -1         -1           -1         -1   \n",
       "1            1       1             -1         -1            0         -1   \n",
       "2            1       1              1         -1            1         -1   \n",
       "3            1       1             -1         -1            1         -1   \n",
       "4           -1       1             -1         -1            0         -1   \n",
       "\n",
       "   Google_Index  Links_pointing_to_page  Statistical_report  Result  \n",
       "0             1                       1                  -1      -1  \n",
       "1             1                       1                   1      -1  \n",
       "2             1                       0                  -1      -1  \n",
       "3             1                      -1                   1      -1  \n",
       "4             1                       1                   1       1  \n",
       "\n",
       "[5 rows x 32 columns]"
      ]
     },
     "execution_count": 37,
     "metadata": {},
     "output_type": "execute_result"
    }
   ],
   "source": [
    "df.head()"
   ]
  },
  {
   "cell_type": "code",
   "execution_count": 38,
   "metadata": {},
   "outputs": [
    {
     "data": {
      "text/plain": [
       "array([[-1,  1,  1, ...,  1,  1, -1],\n",
       "       [ 1,  1,  1, ...,  1,  1,  1],\n",
       "       [ 1,  0,  1, ...,  1,  0, -1],\n",
       "       ...,\n",
       "       [ 1, -1,  1, ...,  1,  0,  1],\n",
       "       [-1, -1,  1, ...,  1,  1,  1],\n",
       "       [-1, -1,  1, ..., -1,  1, -1]])"
      ]
     },
     "execution_count": 38,
     "metadata": {},
     "output_type": "execute_result"
    }
   ],
   "source": [
    "x = df.iloc[:,1:31].values\n",
    "x"
   ]
  },
  {
   "cell_type": "code",
   "execution_count": 39,
   "metadata": {},
   "outputs": [
    {
     "data": {
      "text/plain": [
       "array([-1, -1, -1, ..., -1, -1, -1])"
      ]
     },
     "execution_count": 39,
     "metadata": {},
     "output_type": "execute_result"
    }
   ],
   "source": [
    "y = df.iloc[:,-1].values\n",
    "y"
   ]
  },
  {
   "cell_type": "code",
   "execution_count": 93,
   "metadata": {},
   "outputs": [],
   "source": [
    "y1=[]\n",
    "for i in y:\n",
    "    if(i==1):\n",
    "        y1.append(1)\n",
    "    else:\n",
    "        y1.append(0)"
   ]
  },
  {
   "cell_type": "code",
   "execution_count": 99,
   "metadata": {},
   "outputs": [],
   "source": [
    "y1=np.array(y1)"
   ]
  },
  {
   "cell_type": "code",
   "execution_count": 95,
   "metadata": {},
   "outputs": [
    {
     "data": {
      "text/plain": [
       "array([-1, -1, -1, ..., -1, -1, -1])"
      ]
     },
     "execution_count": 95,
     "metadata": {},
     "output_type": "execute_result"
    }
   ],
   "source": [
    "y"
   ]
  },
  {
   "cell_type": "code",
   "execution_count": 100,
   "metadata": {},
   "outputs": [
    {
     "data": {
      "text/plain": [
       "array([0, 0, 0, ..., 0, 0, 0])"
      ]
     },
     "execution_count": 100,
     "metadata": {},
     "output_type": "execute_result"
    }
   ],
   "source": [
    "y1"
   ]
  },
  {
   "cell_type": "code",
   "execution_count": 101,
   "metadata": {},
   "outputs": [],
   "source": [
    "from sklearn.model_selection import train_test_split\n",
    "x_train,x_test,y_train,y_test = train_test_split(x,y1,test_size=0.25,random_state=0)"
   ]
  },
  {
   "cell_type": "code",
   "execution_count": 102,
   "metadata": {},
   "outputs": [
    {
     "data": {
      "text/plain": [
       "(8291, 30)"
      ]
     },
     "execution_count": 102,
     "metadata": {},
     "output_type": "execute_result"
    }
   ],
   "source": [
    "x_train.shape"
   ]
  },
  {
   "cell_type": "code",
   "execution_count": 103,
   "metadata": {},
   "outputs": [
    {
     "data": {
      "text/plain": [
       "(8291,)"
      ]
     },
     "execution_count": 103,
     "metadata": {},
     "output_type": "execute_result"
    }
   ],
   "source": [
    "y_train.shape"
   ]
  },
  {
   "cell_type": "code",
   "execution_count": 104,
   "metadata": {},
   "outputs": [
    {
     "data": {
      "text/plain": [
       "(2764, 30)"
      ]
     },
     "execution_count": 104,
     "metadata": {},
     "output_type": "execute_result"
    }
   ],
   "source": [
    "x_test.shape"
   ]
  },
  {
   "cell_type": "code",
   "execution_count": 105,
   "metadata": {},
   "outputs": [
    {
     "data": {
      "text/plain": [
       "(2764,)"
      ]
     },
     "execution_count": 105,
     "metadata": {},
     "output_type": "execute_result"
    }
   ],
   "source": [
    "y_test.shape"
   ]
  },
  {
   "cell_type": "code",
   "execution_count": 106,
   "metadata": {},
   "outputs": [
    {
     "data": {
      "text/plain": [
       "array([0, 0, 0, ..., 0, 1, 0])"
      ]
     },
     "execution_count": 106,
     "metadata": {},
     "output_type": "execute_result"
    }
   ],
   "source": [
    "y_test"
   ]
  },
  {
   "cell_type": "code",
   "execution_count": 107,
   "metadata": {},
   "outputs": [],
   "source": [
    "from sklearn.preprocessing import StandardScaler\n",
    "sc = StandardScaler()"
   ]
  },
  {
   "cell_type": "code",
   "execution_count": 108,
   "metadata": {},
   "outputs": [],
   "source": [
    "x_train = sc.fit_transform(x_train)\n",
    "x_test = sc.transform(x_test)"
   ]
  },
  {
   "cell_type": "code",
   "execution_count": 109,
   "metadata": {},
   "outputs": [
    {
     "data": {
      "text/plain": [
       "array([[ 0.72742047, -0.48353993,  0.38741472, ...,  0.40312158,\n",
       "        -0.60235956,  0.40856419],\n",
       "       [ 0.72742047, -0.48353993,  0.38741472, ...,  0.40312158,\n",
       "        -0.60235956,  0.40856419],\n",
       "       [ 0.72742047, -0.48353993,  0.38741472, ...,  0.40312158,\n",
       "         1.14446209,  0.40856419],\n",
       "       ...,\n",
       "       [-1.37472073, -0.48353993, -2.58121323, ...,  0.40312158,\n",
       "         1.14446209, -2.44759578],\n",
       "       [-1.37472073, -0.48353993,  0.38741472, ...,  0.40312158,\n",
       "         1.14446209,  0.40856419],\n",
       "       [ 0.72742047, -0.48353993,  0.38741472, ...,  0.40312158,\n",
       "        -0.60235956,  0.40856419]])"
      ]
     },
     "execution_count": 109,
     "metadata": {},
     "output_type": "execute_result"
    }
   ],
   "source": [
    "x_test"
   ]
  },
  {
   "cell_type": "code",
   "execution_count": null,
   "metadata": {},
   "outputs": [],
   "source": []
  },
  {
   "cell_type": "code",
   "execution_count": null,
   "metadata": {},
   "outputs": [],
   "source": []
  },
  {
   "cell_type": "code",
   "execution_count": null,
   "metadata": {},
   "outputs": [],
   "source": []
  },
  {
   "cell_type": "code",
   "execution_count": 110,
   "metadata": {},
   "outputs": [
    {
     "data": {
      "text/plain": [
       "array([1, 1, 1, ..., 1, 0, 0])"
      ]
     },
     "execution_count": 110,
     "metadata": {},
     "output_type": "execute_result"
    }
   ],
   "source": [
    "y_train"
   ]
  },
  {
   "cell_type": "code",
   "execution_count": 121,
   "metadata": {},
   "outputs": [],
   "source": [
    "from tensorflow.keras.models import Sequential\n",
    "from tensorflow.keras.layers import Dense,Dropout "
   ]
  },
  {
   "cell_type": "code",
   "execution_count": 122,
   "metadata": {},
   "outputs": [],
   "source": [
    "Regression_Model = Sequential()"
   ]
  },
  {
   "cell_type": "code",
   "execution_count": 123,
   "metadata": {},
   "outputs": [],
   "source": [
    "Regression_Model.add(Dense(units=30, kernel_initializer=\"random_uniform\", activation=\"relu\"))"
   ]
  },
  {
   "cell_type": "code",
   "execution_count": 124,
   "metadata": {},
   "outputs": [],
   "source": [
    "Regression_Model.add(Dense(units=60, kernel_initializer=\"random_uniform\", activation=\"relu\"))"
   ]
  },
  {
   "cell_type": "code",
   "execution_count": 125,
   "metadata": {},
   "outputs": [],
   "source": [
    "Regression_Model.add(Dropout(0.2))"
   ]
  },
  {
   "cell_type": "code",
   "execution_count": 126,
   "metadata": {},
   "outputs": [],
   "source": [
    "Regression_Model.add(Dense(units=60, kernel_initializer=\"random_uniform\", activation=\"relu\"))"
   ]
  },
  {
   "cell_type": "code",
   "execution_count": 127,
   "metadata": {},
   "outputs": [],
   "source": [
    "Regression_Model.add(Dropout(0.2))"
   ]
  },
  {
   "cell_type": "code",
   "execution_count": 128,
   "metadata": {},
   "outputs": [],
   "source": [
    "Regression_Model.add(Dense(units=1, kernel_initializer=\"random_uniform\", activation=\"sigmoid\"))"
   ]
  },
  {
   "cell_type": "code",
   "execution_count": 129,
   "metadata": {},
   "outputs": [],
   "source": [
    "Regression_Model.compile(optimizer = \"rmsprop\",loss =\"binary_crossentropy\", metrics = [\"accuracy\"] )"
   ]
  },
  {
   "cell_type": "code",
   "execution_count": 130,
   "metadata": {},
   "outputs": [
    {
     "name": "stdout",
     "output_type": "stream",
     "text": [
      "Epoch 1/100\n",
      "130/130 [==============================] - 2s 4ms/step - loss: 0.3389 - accuracy: 0.8676 - val_loss: 0.1870 - val_accuracy: 0.9276\n",
      "Epoch 2/100\n",
      "130/130 [==============================] - 0s 3ms/step - loss: 0.1743 - accuracy: 0.9344 - val_loss: 0.1717 - val_accuracy: 0.9334\n",
      "Epoch 3/100\n",
      "130/130 [==============================] - 0s 2ms/step - loss: 0.1572 - accuracy: 0.9407 - val_loss: 0.1686 - val_accuracy: 0.9381\n",
      "Epoch 4/100\n",
      "130/130 [==============================] - 0s 3ms/step - loss: 0.1491 - accuracy: 0.9443 - val_loss: 0.1531 - val_accuracy: 0.9385\n",
      "Epoch 5/100\n",
      "130/130 [==============================] - 0s 3ms/step - loss: 0.1376 - accuracy: 0.9477 - val_loss: 0.1498 - val_accuracy: 0.9414\n",
      "Epoch 6/100\n",
      "130/130 [==============================] - 0s 3ms/step - loss: 0.1284 - accuracy: 0.9508 - val_loss: 0.1416 - val_accuracy: 0.9461\n",
      "Epoch 7/100\n",
      "130/130 [==============================] - 0s 2ms/step - loss: 0.1199 - accuracy: 0.9526 - val_loss: 0.1385 - val_accuracy: 0.9483\n",
      "Epoch 8/100\n",
      "130/130 [==============================] - 0s 2ms/step - loss: 0.1142 - accuracy: 0.9543 - val_loss: 0.1351 - val_accuracy: 0.9475\n",
      "Epoch 9/100\n",
      "130/130 [==============================] - 0s 2ms/step - loss: 0.1062 - accuracy: 0.9581 - val_loss: 0.1393 - val_accuracy: 0.9512\n",
      "Epoch 10/100\n",
      "130/130 [==============================] - 0s 2ms/step - loss: 0.1015 - accuracy: 0.9612 - val_loss: 0.1300 - val_accuracy: 0.9490\n",
      "Epoch 11/100\n",
      "130/130 [==============================] - 0s 2ms/step - loss: 0.0974 - accuracy: 0.9630 - val_loss: 0.1259 - val_accuracy: 0.9541\n",
      "Epoch 12/100\n",
      "130/130 [==============================] - 0s 2ms/step - loss: 0.0928 - accuracy: 0.9631 - val_loss: 0.1285 - val_accuracy: 0.9537\n",
      "Epoch 13/100\n",
      "130/130 [==============================] - 0s 2ms/step - loss: 0.0899 - accuracy: 0.9672 - val_loss: 0.1378 - val_accuracy: 0.9515\n",
      "Epoch 14/100\n",
      "130/130 [==============================] - 0s 2ms/step - loss: 0.0852 - accuracy: 0.9678 - val_loss: 0.1233 - val_accuracy: 0.9588\n",
      "Epoch 15/100\n",
      "130/130 [==============================] - 0s 2ms/step - loss: 0.0846 - accuracy: 0.9662 - val_loss: 0.1223 - val_accuracy: 0.9588\n",
      "Epoch 16/100\n",
      "130/130 [==============================] - 0s 2ms/step - loss: 0.0796 - accuracy: 0.9690 - val_loss: 0.1253 - val_accuracy: 0.9591\n",
      "Epoch 17/100\n",
      "130/130 [==============================] - 0s 2ms/step - loss: 0.0795 - accuracy: 0.9690 - val_loss: 0.1329 - val_accuracy: 0.9555\n",
      "Epoch 18/100\n",
      "130/130 [==============================] - 0s 2ms/step - loss: 0.0741 - accuracy: 0.9713 - val_loss: 0.1149 - val_accuracy: 0.9602\n",
      "Epoch 19/100\n",
      "130/130 [==============================] - 0s 2ms/step - loss: 0.0747 - accuracy: 0.9712 - val_loss: 0.1256 - val_accuracy: 0.9573\n",
      "Epoch 20/100\n",
      "130/130 [==============================] - 0s 2ms/step - loss: 0.0731 - accuracy: 0.9715 - val_loss: 0.1146 - val_accuracy: 0.9609\n",
      "Epoch 21/100\n",
      "130/130 [==============================] - 0s 2ms/step - loss: 0.0719 - accuracy: 0.9714 - val_loss: 0.1252 - val_accuracy: 0.9609\n",
      "Epoch 22/100\n",
      "130/130 [==============================] - 0s 2ms/step - loss: 0.0696 - accuracy: 0.9723 - val_loss: 0.1246 - val_accuracy: 0.9584\n",
      "Epoch 23/100\n",
      "130/130 [==============================] - 0s 3ms/step - loss: 0.0690 - accuracy: 0.9735 - val_loss: 0.1166 - val_accuracy: 0.9638\n",
      "Epoch 24/100\n",
      "130/130 [==============================] - 0s 3ms/step - loss: 0.0700 - accuracy: 0.9714 - val_loss: 0.1088 - val_accuracy: 0.9667\n",
      "Epoch 25/100\n",
      "130/130 [==============================] - 0s 3ms/step - loss: 0.0641 - accuracy: 0.9719 - val_loss: 0.1217 - val_accuracy: 0.9609\n",
      "Epoch 26/100\n",
      "130/130 [==============================] - 0s 3ms/step - loss: 0.0646 - accuracy: 0.9739 - val_loss: 0.1275 - val_accuracy: 0.9609\n",
      "Epoch 27/100\n",
      "130/130 [==============================] - 0s 3ms/step - loss: 0.0620 - accuracy: 0.9750 - val_loss: 0.1294 - val_accuracy: 0.9620\n",
      "Epoch 28/100\n",
      "130/130 [==============================] - 0s 3ms/step - loss: 0.0622 - accuracy: 0.9725 - val_loss: 0.1276 - val_accuracy: 0.9591\n",
      "Epoch 29/100\n",
      "130/130 [==============================] - 0s 3ms/step - loss: 0.0644 - accuracy: 0.9746 - val_loss: 0.1238 - val_accuracy: 0.9613\n",
      "Epoch 30/100\n",
      "130/130 [==============================] - 0s 2ms/step - loss: 0.0615 - accuracy: 0.9744 - val_loss: 0.1302 - val_accuracy: 0.9591\n",
      "Epoch 31/100\n",
      "130/130 [==============================] - 0s 3ms/step - loss: 0.0602 - accuracy: 0.9749 - val_loss: 0.1321 - val_accuracy: 0.9616\n",
      "Epoch 32/100\n",
      "130/130 [==============================] - 0s 3ms/step - loss: 0.0592 - accuracy: 0.9759 - val_loss: 0.1289 - val_accuracy: 0.9631\n",
      "Epoch 33/100\n",
      "130/130 [==============================] - 0s 3ms/step - loss: 0.0585 - accuracy: 0.9759 - val_loss: 0.1380 - val_accuracy: 0.9616\n",
      "Epoch 34/100\n",
      "130/130 [==============================] - 0s 3ms/step - loss: 0.0614 - accuracy: 0.9755 - val_loss: 0.1230 - val_accuracy: 0.9609\n",
      "Epoch 35/100\n",
      "130/130 [==============================] - 0s 3ms/step - loss: 0.0544 - accuracy: 0.9777 - val_loss: 0.1626 - val_accuracy: 0.9562\n",
      "Epoch 36/100\n",
      "130/130 [==============================] - 0s 2ms/step - loss: 0.0570 - accuracy: 0.9780 - val_loss: 0.1343 - val_accuracy: 0.9631\n",
      "Epoch 37/100\n",
      "130/130 [==============================] - 0s 2ms/step - loss: 0.0549 - accuracy: 0.9772 - val_loss: 0.1326 - val_accuracy: 0.9642\n",
      "Epoch 38/100\n",
      "130/130 [==============================] - 0s 2ms/step - loss: 0.0555 - accuracy: 0.9777 - val_loss: 0.1279 - val_accuracy: 0.9649\n",
      "Epoch 39/100\n",
      "130/130 [==============================] - 0s 3ms/step - loss: 0.0539 - accuracy: 0.9780 - val_loss: 0.1326 - val_accuracy: 0.9627\n",
      "Epoch 40/100\n",
      "130/130 [==============================] - 0s 3ms/step - loss: 0.0509 - accuracy: 0.9800 - val_loss: 0.1487 - val_accuracy: 0.9616\n",
      "Epoch 41/100\n",
      "130/130 [==============================] - 0s 2ms/step - loss: 0.0533 - accuracy: 0.9776 - val_loss: 0.1418 - val_accuracy: 0.9631\n",
      "Epoch 42/100\n",
      "130/130 [==============================] - 0s 3ms/step - loss: 0.0495 - accuracy: 0.9796 - val_loss: 0.1689 - val_accuracy: 0.9602\n",
      "Epoch 43/100\n",
      "130/130 [==============================] - 0s 3ms/step - loss: 0.0521 - accuracy: 0.9783 - val_loss: 0.1499 - val_accuracy: 0.9613\n",
      "Epoch 44/100\n",
      "130/130 [==============================] - 0s 3ms/step - loss: 0.0495 - accuracy: 0.9805 - val_loss: 0.1524 - val_accuracy: 0.9649\n",
      "Epoch 45/100\n",
      "130/130 [==============================] - 0s 2ms/step - loss: 0.0523 - accuracy: 0.9770 - val_loss: 0.1428 - val_accuracy: 0.9631\n",
      "Epoch 46/100\n",
      "130/130 [==============================] - 0s 3ms/step - loss: 0.0500 - accuracy: 0.9785 - val_loss: 0.1534 - val_accuracy: 0.9642\n",
      "Epoch 47/100\n",
      "130/130 [==============================] - 0s 3ms/step - loss: 0.0499 - accuracy: 0.9788 - val_loss: 0.1527 - val_accuracy: 0.9649\n",
      "Epoch 48/100\n",
      "130/130 [==============================] - 0s 3ms/step - loss: 0.0483 - accuracy: 0.9802 - val_loss: 0.1610 - val_accuracy: 0.9638\n",
      "Epoch 49/100\n",
      "130/130 [==============================] - 0s 3ms/step - loss: 0.0500 - accuracy: 0.9791 - val_loss: 0.1606 - val_accuracy: 0.9627\n",
      "Epoch 50/100\n",
      "130/130 [==============================] - 0s 2ms/step - loss: 0.0481 - accuracy: 0.9799 - val_loss: 0.1591 - val_accuracy: 0.9598\n",
      "Epoch 51/100\n",
      "130/130 [==============================] - 0s 2ms/step - loss: 0.0475 - accuracy: 0.9813 - val_loss: 0.1611 - val_accuracy: 0.9624\n",
      "Epoch 52/100\n",
      "130/130 [==============================] - 0s 2ms/step - loss: 0.0459 - accuracy: 0.9803 - val_loss: 0.1665 - val_accuracy: 0.9656\n",
      "Epoch 53/100\n",
      "130/130 [==============================] - 0s 2ms/step - loss: 0.0448 - accuracy: 0.9809 - val_loss: 0.1707 - val_accuracy: 0.9635\n",
      "Epoch 54/100\n",
      "130/130 [==============================] - 0s 3ms/step - loss: 0.0473 - accuracy: 0.9808 - val_loss: 0.1722 - val_accuracy: 0.9635\n",
      "Epoch 55/100\n",
      "130/130 [==============================] - 0s 3ms/step - loss: 0.0469 - accuracy: 0.9824 - val_loss: 0.1663 - val_accuracy: 0.9591\n",
      "Epoch 56/100\n",
      "130/130 [==============================] - 0s 3ms/step - loss: 0.0452 - accuracy: 0.9809 - val_loss: 0.1729 - val_accuracy: 0.9631\n",
      "Epoch 57/100\n",
      "130/130 [==============================] - 0s 3ms/step - loss: 0.0455 - accuracy: 0.9800 - val_loss: 0.1861 - val_accuracy: 0.9638\n"
     ]
    },
    {
     "name": "stdout",
     "output_type": "stream",
     "text": [
      "Epoch 58/100\n",
      "130/130 [==============================] - 0s 3ms/step - loss: 0.0444 - accuracy: 0.9820 - val_loss: 0.1828 - val_accuracy: 0.9598\n",
      "Epoch 59/100\n",
      "130/130 [==============================] - 0s 3ms/step - loss: 0.0426 - accuracy: 0.9808 - val_loss: 0.2097 - val_accuracy: 0.9602\n",
      "Epoch 60/100\n",
      "130/130 [==============================] - 0s 2ms/step - loss: 0.0453 - accuracy: 0.9819 - val_loss: 0.1909 - val_accuracy: 0.9598\n",
      "Epoch 61/100\n",
      "130/130 [==============================] - 0s 3ms/step - loss: 0.0451 - accuracy: 0.9809 - val_loss: 0.1846 - val_accuracy: 0.9645\n",
      "Epoch 62/100\n",
      "130/130 [==============================] - 0s 3ms/step - loss: 0.0451 - accuracy: 0.9801 - val_loss: 0.1747 - val_accuracy: 0.9631\n",
      "Epoch 63/100\n",
      "130/130 [==============================] - 0s 2ms/step - loss: 0.0430 - accuracy: 0.9815 - val_loss: 0.1798 - val_accuracy: 0.9645\n",
      "Epoch 64/100\n",
      "130/130 [==============================] - 0s 2ms/step - loss: 0.0428 - accuracy: 0.9814 - val_loss: 0.1766 - val_accuracy: 0.9624\n",
      "Epoch 65/100\n",
      "130/130 [==============================] - 0s 3ms/step - loss: 0.0421 - accuracy: 0.9826 - val_loss: 0.1802 - val_accuracy: 0.9649\n",
      "Epoch 66/100\n",
      "130/130 [==============================] - 0s 2ms/step - loss: 0.0436 - accuracy: 0.9819 - val_loss: 0.1828 - val_accuracy: 0.9635\n",
      "Epoch 67/100\n",
      "130/130 [==============================] - 0s 3ms/step - loss: 0.0469 - accuracy: 0.9805 - val_loss: 0.2022 - val_accuracy: 0.9591\n",
      "Epoch 68/100\n",
      "130/130 [==============================] - 0s 2ms/step - loss: 0.0446 - accuracy: 0.9829 - val_loss: 0.1818 - val_accuracy: 0.9635\n",
      "Epoch 69/100\n",
      "130/130 [==============================] - 0s 2ms/step - loss: 0.0411 - accuracy: 0.9823 - val_loss: 0.2218 - val_accuracy: 0.9598\n",
      "Epoch 70/100\n",
      "130/130 [==============================] - 0s 2ms/step - loss: 0.0424 - accuracy: 0.9825 - val_loss: 0.2066 - val_accuracy: 0.9591\n",
      "Epoch 71/100\n",
      "130/130 [==============================] - 0s 3ms/step - loss: 0.0411 - accuracy: 0.9825 - val_loss: 0.2223 - val_accuracy: 0.9606\n",
      "Epoch 72/100\n",
      "130/130 [==============================] - 0s 3ms/step - loss: 0.0419 - accuracy: 0.9820 - val_loss: 0.2149 - val_accuracy: 0.9638\n",
      "Epoch 73/100\n",
      "130/130 [==============================] - 0s 3ms/step - loss: 0.0410 - accuracy: 0.9813 - val_loss: 0.1907 - val_accuracy: 0.9635\n",
      "Epoch 74/100\n",
      "130/130 [==============================] - 0s 2ms/step - loss: 0.0427 - accuracy: 0.9821 - val_loss: 0.2012 - val_accuracy: 0.9674\n",
      "Epoch 75/100\n",
      "130/130 [==============================] - 0s 2ms/step - loss: 0.0388 - accuracy: 0.9830 - val_loss: 0.2104 - val_accuracy: 0.9624\n",
      "Epoch 76/100\n",
      "130/130 [==============================] - 0s 2ms/step - loss: 0.0401 - accuracy: 0.9817 - val_loss: 0.2293 - val_accuracy: 0.9616\n",
      "Epoch 77/100\n",
      "130/130 [==============================] - 0s 2ms/step - loss: 0.0431 - accuracy: 0.9825 - val_loss: 0.2087 - val_accuracy: 0.9638\n",
      "Epoch 78/100\n",
      "130/130 [==============================] - 0s 3ms/step - loss: 0.0391 - accuracy: 0.9831 - val_loss: 0.1981 - val_accuracy: 0.9664\n",
      "Epoch 79/100\n",
      "130/130 [==============================] - 0s 2ms/step - loss: 0.0408 - accuracy: 0.9812 - val_loss: 0.2156 - val_accuracy: 0.9606\n",
      "Epoch 80/100\n",
      "130/130 [==============================] - 0s 2ms/step - loss: 0.0422 - accuracy: 0.9828 - val_loss: 0.1886 - val_accuracy: 0.9631\n",
      "Epoch 81/100\n",
      "130/130 [==============================] - 0s 2ms/step - loss: 0.0407 - accuracy: 0.9819 - val_loss: 0.2162 - val_accuracy: 0.9638\n",
      "Epoch 82/100\n",
      "130/130 [==============================] - 0s 2ms/step - loss: 0.0420 - accuracy: 0.9815 - val_loss: 0.2178 - val_accuracy: 0.9602\n",
      "Epoch 83/100\n",
      "130/130 [==============================] - 0s 2ms/step - loss: 0.0427 - accuracy: 0.9823 - val_loss: 0.2209 - val_accuracy: 0.9627\n",
      "Epoch 84/100\n",
      "130/130 [==============================] - 0s 2ms/step - loss: 0.0417 - accuracy: 0.9838 - val_loss: 0.2304 - val_accuracy: 0.9595\n",
      "Epoch 85/100\n",
      "130/130 [==============================] - 0s 2ms/step - loss: 0.0437 - accuracy: 0.9828 - val_loss: 0.2256 - val_accuracy: 0.9627\n",
      "Epoch 86/100\n",
      "130/130 [==============================] - 0s 2ms/step - loss: 0.0389 - accuracy: 0.9813 - val_loss: 0.2200 - val_accuracy: 0.9642\n",
      "Epoch 87/100\n",
      "130/130 [==============================] - 0s 3ms/step - loss: 0.0411 - accuracy: 0.9840 - val_loss: 0.2291 - val_accuracy: 0.9580\n",
      "Epoch 88/100\n",
      "130/130 [==============================] - 0s 3ms/step - loss: 0.0427 - accuracy: 0.9828 - val_loss: 0.2502 - val_accuracy: 0.9598\n",
      "Epoch 89/100\n",
      "130/130 [==============================] - 0s 3ms/step - loss: 0.0393 - accuracy: 0.9835 - val_loss: 0.2165 - val_accuracy: 0.9649\n",
      "Epoch 90/100\n",
      "130/130 [==============================] - 0s 3ms/step - loss: 0.0398 - accuracy: 0.9832 - val_loss: 0.2243 - val_accuracy: 0.9620\n",
      "Epoch 91/100\n",
      "130/130 [==============================] - 0s 2ms/step - loss: 0.0365 - accuracy: 0.9835 - val_loss: 0.2144 - val_accuracy: 0.9598\n",
      "Epoch 92/100\n",
      "130/130 [==============================] - 0s 2ms/step - loss: 0.0379 - accuracy: 0.9840 - val_loss: 0.2201 - val_accuracy: 0.9642\n",
      "Epoch 93/100\n",
      "130/130 [==============================] - 0s 3ms/step - loss: 0.0382 - accuracy: 0.9837 - val_loss: 0.2183 - val_accuracy: 0.9649\n",
      "Epoch 94/100\n",
      "130/130 [==============================] - 0s 3ms/step - loss: 0.0395 - accuracy: 0.9831 - val_loss: 0.2095 - val_accuracy: 0.9653\n",
      "Epoch 95/100\n",
      "130/130 [==============================] - 0s 3ms/step - loss: 0.0404 - accuracy: 0.9846 - val_loss: 0.2413 - val_accuracy: 0.9616\n",
      "Epoch 96/100\n",
      "130/130 [==============================] - 0s 3ms/step - loss: 0.0395 - accuracy: 0.9828 - val_loss: 0.2133 - val_accuracy: 0.9649\n",
      "Epoch 97/100\n",
      "130/130 [==============================] - 0s 3ms/step - loss: 0.0381 - accuracy: 0.9840 - val_loss: 0.2342 - val_accuracy: 0.9656\n",
      "Epoch 98/100\n",
      "130/130 [==============================] - 0s 3ms/step - loss: 0.0395 - accuracy: 0.9847 - val_loss: 0.2269 - val_accuracy: 0.9653\n",
      "Epoch 99/100\n",
      "130/130 [==============================] - 0s 3ms/step - loss: 0.0382 - accuracy: 0.9840 - val_loss: 0.2089 - val_accuracy: 0.9627\n",
      "Epoch 100/100\n",
      "130/130 [==============================] - 0s 2ms/step - loss: 0.0417 - accuracy: 0.9835 - val_loss: 0.2132 - val_accuracy: 0.9671\n"
     ]
    }
   ],
   "source": [
    "history = Regression_Model.fit(x_train,y_train, batch_size =64,epochs = 100,validation_data=(x_test, y_test))"
   ]
  },
  {
   "cell_type": "code",
   "execution_count": 131,
   "metadata": {},
   "outputs": [],
   "source": [
    "ypred2 = Regression_Model.predict(x_test)"
   ]
  },
  {
   "cell_type": "code",
   "execution_count": 135,
   "metadata": {},
   "outputs": [
    {
     "data": {
      "text/plain": [
       "array([0, 0, 0, ..., 0, 1, 0])"
      ]
     },
     "execution_count": 135,
     "metadata": {},
     "output_type": "execute_result"
    }
   ],
   "source": [
    "y_test"
   ]
  },
  {
   "cell_type": "code",
   "execution_count": 148,
   "metadata": {},
   "outputs": [
    {
     "data": {
      "text/plain": [
       "array([[0.],\n",
       "       [0.],\n",
       "       [1.],\n",
       "       ...,\n",
       "       [0.],\n",
       "       [1.],\n",
       "       [0.]], dtype=float16)"
      ]
     },
     "execution_count": 148,
     "metadata": {},
     "output_type": "execute_result"
    }
   ],
   "source": [
    "(ypred2>0.5).round()"
   ]
  },
  {
   "cell_type": "code",
   "execution_count": 136,
   "metadata": {},
   "outputs": [],
   "source": [
    "from sklearn.metrics import accuracy_score\n",
    "accuracy=accuracy_score(y_test,ypred2.round())"
   ]
  },
  {
   "cell_type": "code",
   "execution_count": 137,
   "metadata": {},
   "outputs": [
    {
     "data": {
      "text/plain": [
       "0.9670767004341534"
      ]
     },
     "execution_count": 137,
     "metadata": {},
     "output_type": "execute_result"
    }
   ],
   "source": [
    "accuracy"
   ]
  },
  {
   "cell_type": "code",
   "execution_count": 138,
   "metadata": {},
   "outputs": [
    {
     "data": {
      "text/plain": [
       "tensorflow.python.keras.engine.sequential.Sequential"
      ]
     },
     "execution_count": 138,
     "metadata": {},
     "output_type": "execute_result"
    }
   ],
   "source": [
    "type(Regression_Model)"
   ]
  },
  {
   "cell_type": "code",
   "execution_count": 139,
   "metadata": {},
   "outputs": [],
   "source": [
    "Regression_Model.save('Phishing_Website.h5')"
   ]
  },
  {
   "cell_type": "code",
   "execution_count": 140,
   "metadata": {},
   "outputs": [
    {
     "name": "stdout",
     "output_type": "stream",
     "text": [
      "Model: \"sequential_6\"\n",
      "_________________________________________________________________\n",
      "Layer (type)                 Output Shape              Param #   \n",
      "=================================================================\n",
      "dense_24 (Dense)             (None, 30)                930       \n",
      "_________________________________________________________________\n",
      "dense_25 (Dense)             (None, 60)                1860      \n",
      "_________________________________________________________________\n",
      "dropout_12 (Dropout)         (None, 60)                0         \n",
      "_________________________________________________________________\n",
      "dense_26 (Dense)             (None, 60)                3660      \n",
      "_________________________________________________________________\n",
      "dropout_13 (Dropout)         (None, 60)                0         \n",
      "_________________________________________________________________\n",
      "dense_27 (Dense)             (None, 1)                 61        \n",
      "=================================================================\n",
      "Total params: 6,511\n",
      "Trainable params: 6,511\n",
      "Non-trainable params: 0\n",
      "_________________________________________________________________\n"
     ]
    }
   ],
   "source": [
    "Regression_Model.summary()"
   ]
  },
  {
   "cell_type": "code",
   "execution_count": 141,
   "metadata": {},
   "outputs": [],
   "source": [
    "from keras.models import load_model\n",
    "model = load_model('Phishing_Website.h5')"
   ]
  },
  {
   "cell_type": "code",
   "execution_count": 142,
   "metadata": {},
   "outputs": [],
   "source": [
    "pred=model.predict([[1, 1, 1, 1, 1, -1, 1, -1, -1, -1, -1, 1, -1, 0, 0, -1, -1, -1, 0, -1, -1, 1, -1, -1, -1, -1, 1, -1, -1, -1]])"
   ]
  },
  {
   "cell_type": "code",
   "execution_count": 145,
   "metadata": {},
   "outputs": [
    {
     "data": {
      "text/plain": [
       "array([0.], dtype=float16)"
      ]
     },
     "execution_count": 145,
     "metadata": {},
     "output_type": "execute_result"
    }
   ],
   "source": [
    "(pred[0]>0.5).round()\n",
    "    "
   ]
  },
  {
   "cell_type": "code",
   "execution_count": 149,
   "metadata": {},
   "outputs": [
    {
     "data": {
      "image/png": "[encoded data removed]",
      "text/plain": [
       "<Figure size 432x288 with 1 Axes>"
      ]
     },
     "metadata": {
      "needs_background": "light"
     },
     "output_type": "display_data"
    },
    {
     "data": {
      "image/png": "[encoded data removed]",
      "text/plain": [
       "<Figure size 432x288 with 1 Axes>"
      ]
     },
     "metadata": {
      "needs_background": "light"
     },
     "output_type": "display_data"
    }
   ],
   "source": [
    "import matplotlib.pyplot as plt\n",
    "plt.plot(history.history['accuracy'])\n",
    "plt.plot(history.history['val_accuracy'])\n",
    "plt.title('model accuracy')\n",
    "plt.ylabel('accuracy')\n",
    "plt.xlabel('epoch')\n",
    "plt.legend(['train', 'test'], loc='upper left')\n",
    "plt.show()\n",
    "# summarize history for loss\n",
    "plt.plot(history.history['loss'])\n",
    "plt.plot(history.history['val_loss'])\n",
    "plt.title('model loss')\n",
    "plt.ylabel('loss')\n",
    "plt.xlabel('epoch')\n",
    "plt.legend(['train', 'test'], loc='upper left')\n",
    "plt.show()"
   ]
  },
  {
   "cell_type": "code",
   "execution_count": null,
   "metadata": {},
   "outputs": [],
   "source": []
  }
 ],
 "metadata": {
  "kernelspec": {
   "display_name": "Python 3",
   "language": "python",
   "name": "python3"
  },
  "language_info": {
   "codemirror_mode": {
    "name": "ipython",
    "version": 3
   },
   "file_extension": ".py",
   "mimetype": "text/x-python",
   "name": "python",
   "nbconvert_exporter": "python",
   "pygments_lexer": "ipython3",
   "version": "3.8.8"
  }
 },
 "nbformat": 4,
 "nbformat_minor": 2
}
